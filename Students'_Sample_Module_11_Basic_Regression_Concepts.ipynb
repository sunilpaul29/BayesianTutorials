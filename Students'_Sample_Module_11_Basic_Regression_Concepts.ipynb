{
  "nbformat": 4,
  "nbformat_minor": 0,
  "metadata": {
    "colab": {
      "name": "Students' Sample Module 11: Basic Regression Concepts.ipynb",
      "provenance": [],
      "collapsed_sections": [
        "HucLf257VujB",
        "Tq0QjkgQbxJj"
      ],
      "toc_visible": true,
      "include_colab_link": true
    },
    "kernelspec": {
      "name": "python3",
      "display_name": "Python 3"
    },
    "language_info": {
      "name": "python"
    }
  },
  "cells": [
    {
      "cell_type": "markdown",
      "metadata": {
        "id": "view-in-github",
        "colab_type": "text"
      },
      "source": [
        "<a href=\"https://colab.research.google.com/github/sunilpaul29/BayesianTutorials/blob/master/Students'_Sample_Module_11_Basic_Regression_Concepts.ipynb\" target=\"_parent\"><img src=\"https://colab.research.google.com/assets/colab-badge.svg\" alt=\"Open In Colab\"/></a>"
      ]
    },
    {
      "cell_type": "markdown",
      "metadata": {
        "id": "n_eN_RVBtNSZ"
      },
      "source": [
        "# Linear Regression: Analysis and Concepts\n",
        "\n",
        "Reference: https://youtu.be/nk2CQITm_eo\n",
        "\n",
        "\n",
        "- We review the regression routine with the ridge model.\n",
        "- We learn to make prediction with the model and learn the concept MSE.\n",
        "- We learn *how* a linear model make predictions, which enables us to interpret its coefficients.\n",
        "- We then go into what a linear model does when it makes up its coefficients.\n",
        "- Finally, we'll learn some linear algebra."
      ]
    },
    {
      "cell_type": "code",
      "metadata": {
        "id": "cIuLo1VoR8Fr"
      },
      "source": [
        "import numpy as np\n",
        "import pandas as pd\n",
        "import numpy.random as rnd\n",
        "import matplotlib.pyplot as plt\n",
        "from sklearn.preprocessing import PolynomialFeatures\n",
        "from sklearn.model_selection import train_test_split\n",
        "from sklearn.model_selection import GridSearchCV\n",
        "from sklearn.pipeline import Pipeline\n",
        "from sklearn.preprocessing import StandardScaler\n",
        "\n",
        "from sklearn.linear_model import Ridge\n",
        "from sklearn.svm import SVR\n",
        "from sklearn.tree import DecisionTreeRegressor\n",
        "from sklearn.ensemble import RandomForestRegressor\n",
        "from sklearn.neighbors import KNeighborsRegressor\n",
        "\n",
        "# load community crime data\n",
        "crime = pd.read_table('https://drive.google.com/uc?id=1LV6hDarh58-j4K6X19C0wrBnQtxWpMOY', sep=',', na_values='?')\n",
        "cols_to_keep = [5, 6] + list(range(11,26)) + list(range(32, 103)) + [145]\n",
        "\n",
        "crime = crime.iloc[:,cols_to_keep].dropna()\n",
        "\n",
        "\n",
        "# feature data and outcome variable:\n",
        "X_crime = crime.iloc[:,:88]\n",
        "Y_crime = crime.iloc[:,88]"
      ],
      "execution_count": null,
      "outputs": []
    },
    {
      "cell_type": "markdown",
      "metadata": {
        "id": "bcp4lPGv2f68"
      },
      "source": [
        "## A Basic Regression Routine"
      ]
    },
    {
      "cell_type": "markdown",
      "metadata": {
        "id": "p8AzlQDl3Yg0"
      },
      "source": [
        "1. Data and package setup"
      ]
    },
    {
      "cell_type": "code",
      "metadata": {
        "id": "YTqzWdz7SvPu"
      },
      "source": [
        "# scaled X; this would be the data for regression\n",
        "X_scaled = StandardScaler().fit_transform(X_crime)\n",
        "X_scaled = pd.DataFrame(X_scaled, columns=X_crime.columns)\n"
      ],
      "execution_count": null,
      "outputs": []
    },
    {
      "cell_type": "code",
      "metadata": {
        "id": "RAPGjRWPcCZ7"
      },
      "source": [
        "\n",
        "from sklearn.linear_model import Ridge\n",
        "from sklearn.svm import SVR\n",
        "from sklearn.tree import DecisionTreeRegressor\n",
        "from sklearn.ensemble import RandomForestRegressor\n",
        "from sklearn.neighbors import KNeighborsRegressor\n",
        "\n",
        "\n",
        "ridge = Ridge(random_state=42, solver='svd')  # tune alpha\n",
        "# svr_lin = SVR(kernel = 'linear')              # tune C                             \n",
        "# svr_rbf = SVR(kernel = 'rbf')                 # tune C AND gamma\n",
        "# tree = DecisionTreeRegressor(random_state=11)                # tune max_depth and min_samples_leaf\n",
        "# rf = RandomForestRegressor()                  # tune max_depth and min_samples_leaf\n",
        "# knn = KNeighborsRegressor()                   # tune k_neighbors\n",
        "\n"
      ],
      "execution_count": null,
      "outputs": []
    },
    {
      "cell_type": "markdown",
      "metadata": {
        "id": "uXiY3uCJmQfT"
      },
      "source": [
        "2. Use GridSearchCV(cv=5) technique we learned in Module 2 to tune the best alpha for the `ridge` model. Report R2 as regression score."
      ]
    },
    {
      "cell_type": "code",
      "metadata": {
        "colab": {
          "base_uri": "https://localhost:8080/",
          "height": 979
        },
        "id": "c10sT_wjToxY",
        "outputId": "ebcbcef7-b325-450e-8605-e0e6eaf1bde7"
      },
      "source": [
        "from sklearn.feature_selection import RFECV\n",
        "\n",
        "# define the classifier\n",
        "  # using best combination of parameters as searched by GridSearchCV\n",
        "model = ridge  # tune alpha\n",
        "\n",
        "\n",
        "rfe = RFECV(model,                      # classifier at work\n",
        "            step=1,                    \n",
        "            min_features_to_select=1,  \n",
        "            # verbose =3\n",
        "            )\n",
        "rfe.fit(X_scaled, Y_crime)\n",
        "\n",
        "# rfe algorithim for step=1:\n",
        "  # take one feature out of train set and train the model, then take the accuracy score; repeat for all features\n",
        "    # ex: take out 1st feature, then puts it back and takes out the 2nd\n",
        "  # find the feature that impacts the performance score the least\n",
        "\n",
        "ft_importance = pd.DataFrame({'feature': X_scaled.columns,'feature_importance':rfe.ranking_})\n",
        "ft_importance = ft_importance.sort_values('feature_importance', ascending=True)\n",
        "ft_importance.head(30)"
      ],
      "execution_count": null,
      "outputs": [
        {
          "output_type": "execute_result",
          "data": {
            "text/html": [
              "<div>\n",
              "<style scoped>\n",
              "    .dataframe tbody tr th:only-of-type {\n",
              "        vertical-align: middle;\n",
              "    }\n",
              "\n",
              "    .dataframe tbody tr th {\n",
              "        vertical-align: top;\n",
              "    }\n",
              "\n",
              "    .dataframe thead th {\n",
              "        text-align: right;\n",
              "    }\n",
              "</style>\n",
              "<table border=\"1\" class=\"dataframe\">\n",
              "  <thead>\n",
              "    <tr style=\"text-align: right;\">\n",
              "      <th></th>\n",
              "      <th>feature</th>\n",
              "      <th>feature_importance</th>\n",
              "    </tr>\n",
              "  </thead>\n",
              "  <tbody>\n",
              "    <tr>\n",
              "      <th>53</th>\n",
              "      <td>PctLargHouseOccup</td>\n",
              "      <td>1</td>\n",
              "    </tr>\n",
              "    <tr>\n",
              "      <th>33</th>\n",
              "      <td>PctFam2Par</td>\n",
              "      <td>1</td>\n",
              "    </tr>\n",
              "    <tr>\n",
              "      <th>52</th>\n",
              "      <td>PctLargHouseFam</td>\n",
              "      <td>1</td>\n",
              "    </tr>\n",
              "    <tr>\n",
              "      <th>40</th>\n",
              "      <td>PctKidsBornNeverMar</td>\n",
              "      <td>1</td>\n",
              "    </tr>\n",
              "    <tr>\n",
              "      <th>58</th>\n",
              "      <td>PctPersDenseHous</td>\n",
              "      <td>1</td>\n",
              "    </tr>\n",
              "    <tr>\n",
              "      <th>34</th>\n",
              "      <td>PctKids2Par</td>\n",
              "      <td>1</td>\n",
              "    </tr>\n",
              "    <tr>\n",
              "      <th>51</th>\n",
              "      <td>PctNotSpeakEnglWell</td>\n",
              "      <td>2</td>\n",
              "    </tr>\n",
              "    <tr>\n",
              "      <th>77</th>\n",
              "      <td>MedRent</td>\n",
              "      <td>3</td>\n",
              "    </tr>\n",
              "    <tr>\n",
              "      <th>73</th>\n",
              "      <td>RentLowQ</td>\n",
              "      <td>4</td>\n",
              "    </tr>\n",
              "    <tr>\n",
              "      <th>83</th>\n",
              "      <td>PctForeignBorn</td>\n",
              "      <td>5</td>\n",
              "    </tr>\n",
              "    <tr>\n",
              "      <th>28</th>\n",
              "      <td>MalePctDivorce</td>\n",
              "      <td>6</td>\n",
              "    </tr>\n",
              "    <tr>\n",
              "      <th>31</th>\n",
              "      <td>TotalPctDiv</td>\n",
              "      <td>7</td>\n",
              "    </tr>\n",
              "    <tr>\n",
              "      <th>30</th>\n",
              "      <td>FemalePctDiv</td>\n",
              "      <td>8</td>\n",
              "    </tr>\n",
              "    <tr>\n",
              "      <th>63</th>\n",
              "      <td>PctHousOwnOcc</td>\n",
              "      <td>9</td>\n",
              "    </tr>\n",
              "    <tr>\n",
              "      <th>57</th>\n",
              "      <td>PctPersOwnOccup</td>\n",
              "      <td>10</td>\n",
              "    </tr>\n",
              "    <tr>\n",
              "      <th>56</th>\n",
              "      <td>PersPerRentOccHous</td>\n",
              "      <td>11</td>\n",
              "    </tr>\n",
              "    <tr>\n",
              "      <th>54</th>\n",
              "      <td>PersPerOccupHous</td>\n",
              "      <td>12</td>\n",
              "    </tr>\n",
              "    <tr>\n",
              "      <th>61</th>\n",
              "      <td>HousVacant</td>\n",
              "      <td>13</td>\n",
              "    </tr>\n",
              "    <tr>\n",
              "      <th>6</th>\n",
              "      <td>numbUrban</td>\n",
              "      <td>14</td>\n",
              "    </tr>\n",
              "    <tr>\n",
              "      <th>27</th>\n",
              "      <td>PctOccupMgmtProf</td>\n",
              "      <td>15</td>\n",
              "    </tr>\n",
              "    <tr>\n",
              "      <th>11</th>\n",
              "      <td>pctWInvInc</td>\n",
              "      <td>16</td>\n",
              "    </tr>\n",
              "    <tr>\n",
              "      <th>9</th>\n",
              "      <td>pctWWage</td>\n",
              "      <td>17</td>\n",
              "    </tr>\n",
              "    <tr>\n",
              "      <th>23</th>\n",
              "      <td>PctEmploy</td>\n",
              "      <td>18</td>\n",
              "    </tr>\n",
              "    <tr>\n",
              "      <th>8</th>\n",
              "      <td>medIncome</td>\n",
              "      <td>19</td>\n",
              "    </tr>\n",
              "    <tr>\n",
              "      <th>15</th>\n",
              "      <td>medFamInc</td>\n",
              "      <td>20</td>\n",
              "    </tr>\n",
              "    <tr>\n",
              "      <th>7</th>\n",
              "      <td>pctUrban</td>\n",
              "      <td>21</td>\n",
              "    </tr>\n",
              "    <tr>\n",
              "      <th>75</th>\n",
              "      <td>RentHighQ</td>\n",
              "      <td>22</td>\n",
              "    </tr>\n",
              "    <tr>\n",
              "      <th>19</th>\n",
              "      <td>PctLess9thGrade</td>\n",
              "      <td>23</td>\n",
              "    </tr>\n",
              "    <tr>\n",
              "      <th>47</th>\n",
              "      <td>PctRecImmig5</td>\n",
              "      <td>24</td>\n",
              "    </tr>\n",
              "    <tr>\n",
              "      <th>81</th>\n",
              "      <td>NumInShelters</td>\n",
              "      <td>25</td>\n",
              "    </tr>\n",
              "  </tbody>\n",
              "</table>\n",
              "</div>"
            ],
            "text/plain": [
              "                feature  feature_importance\n",
              "53    PctLargHouseOccup                   1\n",
              "33           PctFam2Par                   1\n",
              "52      PctLargHouseFam                   1\n",
              "40  PctKidsBornNeverMar                   1\n",
              "58     PctPersDenseHous                   1\n",
              "34          PctKids2Par                   1\n",
              "51  PctNotSpeakEnglWell                   2\n",
              "77              MedRent                   3\n",
              "73             RentLowQ                   4\n",
              "83       PctForeignBorn                   5\n",
              "28       MalePctDivorce                   6\n",
              "31          TotalPctDiv                   7\n",
              "30         FemalePctDiv                   8\n",
              "63        PctHousOwnOcc                   9\n",
              "57      PctPersOwnOccup                  10\n",
              "56   PersPerRentOccHous                  11\n",
              "54     PersPerOccupHous                  12\n",
              "61           HousVacant                  13\n",
              "6             numbUrban                  14\n",
              "27     PctOccupMgmtProf                  15\n",
              "11           pctWInvInc                  16\n",
              "9              pctWWage                  17\n",
              "23            PctEmploy                  18\n",
              "8             medIncome                  19\n",
              "15            medFamInc                  20\n",
              "7              pctUrban                  21\n",
              "75            RentHighQ                  22\n",
              "19      PctLess9thGrade                  23\n",
              "47         PctRecImmig5                  24\n",
              "81        NumInShelters                  25"
            ]
          },
          "metadata": {
            "tags": []
          },
          "execution_count": 4
        }
      ]
    },
    {
      "cell_type": "markdown",
      "metadata": {
        "id": "nPSW9l6Gm6yw"
      },
      "source": [
        "3. Review the RFECV(cv=5) technique from Module 3 to find 1st-ranked features by importance."
      ]
    },
    {
      "cell_type": "code",
      "metadata": {
        "id": "SkCKQCcygM78",
        "colab": {
          "base_uri": "https://localhost:8080/"
        },
        "outputId": "61d69d57-26d6-4c6f-c636-a86caf5e784e"
      },
      "source": [
        "top1 = ft_importance.loc[ft_importance['feature_importance']==1]['feature']\n",
        "top1"
      ],
      "execution_count": null,
      "outputs": [
        {
          "output_type": "execute_result",
          "data": {
            "text/plain": [
              "53      PctLargHouseOccup\n",
              "33             PctFam2Par\n",
              "52        PctLargHouseFam\n",
              "40    PctKidsBornNeverMar\n",
              "58       PctPersDenseHous\n",
              "34            PctKids2Par\n",
              "Name: feature, dtype: object"
            ]
          },
          "metadata": {
            "tags": []
          },
          "execution_count": 5
        }
      ]
    },
    {
      "cell_type": "code",
      "metadata": {
        "id": "X09MYl3PgkMP",
        "colab": {
          "base_uri": "https://localhost:8080/",
          "height": 297
        },
        "outputId": "64793ba1-39b8-4251-9b83-5226f5eef979"
      },
      "source": [
        "X_small = X_scaled[top1]\n",
        "X_small.describe()\n"
      ],
      "execution_count": null,
      "outputs": [
        {
          "output_type": "execute_result",
          "data": {
            "text/html": [
              "<div>\n",
              "<style scoped>\n",
              "    .dataframe tbody tr th:only-of-type {\n",
              "        vertical-align: middle;\n",
              "    }\n",
              "\n",
              "    .dataframe tbody tr th {\n",
              "        vertical-align: top;\n",
              "    }\n",
              "\n",
              "    .dataframe thead th {\n",
              "        text-align: right;\n",
              "    }\n",
              "</style>\n",
              "<table border=\"1\" class=\"dataframe\">\n",
              "  <thead>\n",
              "    <tr style=\"text-align: right;\">\n",
              "      <th></th>\n",
              "      <th>PctLargHouseOccup</th>\n",
              "      <th>PctFam2Par</th>\n",
              "      <th>PctLargHouseFam</th>\n",
              "      <th>PctKidsBornNeverMar</th>\n",
              "      <th>PctPersDenseHous</th>\n",
              "      <th>PctKids2Par</th>\n",
              "    </tr>\n",
              "  </thead>\n",
              "  <tbody>\n",
              "    <tr>\n",
              "      <th>count</th>\n",
              "      <td>1.994000e+03</td>\n",
              "      <td>1.994000e+03</td>\n",
              "      <td>1.994000e+03</td>\n",
              "      <td>1.994000e+03</td>\n",
              "      <td>1.994000e+03</td>\n",
              "      <td>1.994000e+03</td>\n",
              "    </tr>\n",
              "    <tr>\n",
              "      <th>mean</th>\n",
              "      <td>3.947583e-17</td>\n",
              "      <td>-2.918650e-16</td>\n",
              "      <td>-2.294498e-16</td>\n",
              "      <td>-1.453201e-17</td>\n",
              "      <td>1.057886e-17</td>\n",
              "      <td>5.602339e-16</td>\n",
              "    </tr>\n",
              "    <tr>\n",
              "      <th>std</th>\n",
              "      <td>1.000251e+00</td>\n",
              "      <td>1.000251e+00</td>\n",
              "      <td>1.000251e+00</td>\n",
              "      <td>1.000251e+00</td>\n",
              "      <td>1.000251e+00</td>\n",
              "      <td>1.000251e+00</td>\n",
              "    </tr>\n",
              "    <tr>\n",
              "      <th>min</th>\n",
              "      <td>-1.069964e+00</td>\n",
              "      <td>-4.045145e+00</td>\n",
              "      <td>-1.146575e+00</td>\n",
              "      <td>-1.021631e+00</td>\n",
              "      <td>-7.333063e-01</td>\n",
              "      <td>-3.782451e+00</td>\n",
              "    </tr>\n",
              "    <tr>\n",
              "      <th>25%</th>\n",
              "      <td>-4.888492e-01</td>\n",
              "      <td>-6.047541e-01</td>\n",
              "      <td>-5.280829e-01</td>\n",
              "      <td>-6.693994e-01</td>\n",
              "      <td>-5.189061e-01</td>\n",
              "      <td>-6.149312e-01</td>\n",
              "    </tr>\n",
              "    <tr>\n",
              "      <th>50%</th>\n",
              "      <td>-2.800112e-01</td>\n",
              "      <td>8.439213e-02</td>\n",
              "      <td>-2.990116e-01</td>\n",
              "      <td>-3.448256e-01</td>\n",
              "      <td>-3.182275e-01</td>\n",
              "      <td>9.794549e-02</td>\n",
              "    </tr>\n",
              "    <tr>\n",
              "      <th>75%</th>\n",
              "      <td>9.226543e-02</td>\n",
              "      <td>7.519343e-01</td>\n",
              "      <td>1.254065e-01</td>\n",
              "      <td>2.734101e-01</td>\n",
              "      <td>1.019969e-01</td>\n",
              "      <td>7.525593e-01</td>\n",
              "    </tr>\n",
              "    <tr>\n",
              "      <th>max</th>\n",
              "      <td>8.140098e+00</td>\n",
              "      <td>1.912729e+00</td>\n",
              "      <td>7.484320e+00</td>\n",
              "      <td>6.849486e+00</td>\n",
              "      <td>9.461852e+00</td>\n",
              "      <td>1.830213e+00</td>\n",
              "    </tr>\n",
              "  </tbody>\n",
              "</table>\n",
              "</div>"
            ],
            "text/plain": [
              "       PctLargHouseOccup    PctFam2Par  ...  PctPersDenseHous   PctKids2Par\n",
              "count       1.994000e+03  1.994000e+03  ...      1.994000e+03  1.994000e+03\n",
              "mean        3.947583e-17 -2.918650e-16  ...      1.057886e-17  5.602339e-16\n",
              "std         1.000251e+00  1.000251e+00  ...      1.000251e+00  1.000251e+00\n",
              "min        -1.069964e+00 -4.045145e+00  ...     -7.333063e-01 -3.782451e+00\n",
              "25%        -4.888492e-01 -6.047541e-01  ...     -5.189061e-01 -6.149312e-01\n",
              "50%        -2.800112e-01  8.439213e-02  ...     -3.182275e-01  9.794549e-02\n",
              "75%         9.226543e-02  7.519343e-01  ...      1.019969e-01  7.525593e-01\n",
              "max         8.140098e+00  1.912729e+00  ...      9.461852e+00  1.830213e+00\n",
              "\n",
              "[8 rows x 6 columns]"
            ]
          },
          "metadata": {
            "tags": []
          },
          "execution_count": 6
        }
      ]
    },
    {
      "cell_type": "markdown",
      "metadata": {
        "id": "4TjEJpbiqVMI"
      },
      "source": [
        "4. Tune the best ridge model to regress the data `X_small` on `Y_crime`. Apply the method `coef_` on your fit model to obtain the predictive coefficients from the model."
      ]
    },
    {
      "cell_type": "code",
      "metadata": {
        "colab": {
          "base_uri": "https://localhost:8080/"
        },
        "id": "5ZtyEljsgJMc",
        "outputId": "f63764d1-6a63-40ca-ef2d-f8669044155c"
      },
      "source": [
        "from sklearn.model_selection import GridSearchCV\n",
        "from sklearn.linear_model import Ridge\n",
        "\n",
        "model = Ridge(random_state=42, solver='svd')\n",
        "\n",
        "grid_values = {'alpha': [0, 0.1, 0.5, 1, 5, 10, 100]}\n",
        "\n",
        "\n",
        "grid_clf_acc = GridSearchCV(model,              \n",
        "                            param_grid = grid_values,\n",
        "                            cv=5)                    \n",
        "grid_clf_acc.fit(X_small, Y_crime)\n",
        "\n",
        "print('Grid best parameter (R2): ', grid_clf_acc.best_params_)\n",
        "print('Grid best score (R2): ', grid_clf_acc.best_score_)"
      ],
      "execution_count": null,
      "outputs": [
        {
          "output_type": "stream",
          "text": [
            "Grid best parameter (R2):  {'alpha': 1}\n",
            "Grid best score (R2):  0.5900886669502569\n"
          ],
          "name": "stdout"
        }
      ]
    },
    {
      "cell_type": "markdown",
      "metadata": {
        "id": "1zOIBz-j4Wpi"
      },
      "source": [
        "## 💥💥 Making predictions and interpreting **linear** models"
      ]
    },
    {
      "cell_type": "markdown",
      "metadata": {
        "id": "AY_VZTUu39EG"
      },
      "source": [
        "5. Ridge regression using the tuned parameter value:"
      ]
    },
    {
      "cell_type": "code",
      "metadata": {
        "colab": {
          "base_uri": "https://localhost:8080/"
        },
        "id": "hrBR1s5Lgidp",
        "outputId": "2619c1e4-41be-4b3d-bee0-84ccbb87deaa"
      },
      "source": [
        "# NO scaling\n",
        "X_small = X_crime[top1]\n",
        "ridge_model = Ridge(alpha=1, random_state=42, solver='svd')\n",
        "ridge_model.fit(X_small, Y_crime)\n"
      ],
      "execution_count": null,
      "outputs": [
        {
          "output_type": "execute_result",
          "data": {
            "text/plain": [
              "Ridge(alpha=1, copy_X=True, fit_intercept=True, max_iter=None, normalize=False,\n",
              "      random_state=42, solver='svd', tol=0.001)"
            ]
          },
          "metadata": {
            "tags": []
          },
          "execution_count": 8
        }
      ]
    },
    {
      "cell_type": "code",
      "metadata": {
        "colab": {
          "base_uri": "https://localhost:8080/"
        },
        "id": "8dXFplLyhF8E",
        "outputId": "c5b79266-a551-47be-c2a6-6d93af6b32ee"
      },
      "source": [
        "# Extract row using .loc[]\n",
        "X_small.loc[2210]"
      ],
      "execution_count": null,
      "outputs": [
        {
          "output_type": "execute_result",
          "data": {
            "text/plain": [
              "PctLargHouseOccup       9.91\n",
              "PctFam2Par             67.04\n",
              "PctLargHouseFam        13.49\n",
              "PctKidsBornNeverMar     4.49\n",
              "PctPersDenseHous       16.89\n",
              "PctKids2Par            64.81\n",
              "Name: 2210, dtype: float64"
            ]
          },
          "metadata": {
            "tags": []
          },
          "execution_count": 9
        }
      ]
    },
    {
      "cell_type": "markdown",
      "metadata": {
        "id": "0B75oIWtHvkN"
      },
      "source": [
        "6. A sneaky introduction to **linear algebra**: matrices and vectors"
      ]
    },
    {
      "cell_type": "code",
      "metadata": {
        "colab": {
          "base_uri": "https://localhost:8080/"
        },
        "id": "tcUWG8U4HJ17",
        "outputId": "0817e070-7a08-4913-c03b-878c5435d587"
      },
      "source": [
        "# we'll work with the matrix version of X_small\n",
        "# numpy array (matrix)\n",
        "X_small.values"
      ],
      "execution_count": null,
      "outputs": [
        {
          "output_type": "execute_result",
          "data": {
            "text/plain": [
              "array([[ 4.17, 91.43,  4.81,  0.36,  0.39, 90.17],\n",
              "       [ 3.34, 86.91,  4.25,  0.24,  1.01, 85.33],\n",
              "       [ 2.05, 78.54,  2.97,  0.88,  2.03, 78.85],\n",
              "       ...,\n",
              "       [ 3.5 , 76.77,  5.1 ,  1.6 ,  4.39, 74.2 ],\n",
              "       [ 7.1 , 67.76,  9.83,  2.35,  9.64, 63.45],\n",
              "       [ 5.7 , 62.64,  8.58,  4.85, 11.31, 60.23]])"
            ]
          },
          "metadata": {
            "tags": []
          },
          "execution_count": 10
        }
      ]
    },
    {
      "cell_type": "code",
      "metadata": {
        "id": "aPAWEl56444j",
        "colab": {
          "base_uri": "https://localhost:8080/",
          "height": 419
        },
        "outputId": "19895fc8-bac2-4563-cf09-950a6a0ccb4b"
      },
      "source": [
        "# panda series\n",
        "X_small"
      ],
      "execution_count": null,
      "outputs": [
        {
          "output_type": "execute_result",
          "data": {
            "text/html": [
              "<div>\n",
              "<style scoped>\n",
              "    .dataframe tbody tr th:only-of-type {\n",
              "        vertical-align: middle;\n",
              "    }\n",
              "\n",
              "    .dataframe tbody tr th {\n",
              "        vertical-align: top;\n",
              "    }\n",
              "\n",
              "    .dataframe thead th {\n",
              "        text-align: right;\n",
              "    }\n",
              "</style>\n",
              "<table border=\"1\" class=\"dataframe\">\n",
              "  <thead>\n",
              "    <tr style=\"text-align: right;\">\n",
              "      <th></th>\n",
              "      <th>PctLargHouseOccup</th>\n",
              "      <th>PctFam2Par</th>\n",
              "      <th>PctLargHouseFam</th>\n",
              "      <th>PctKidsBornNeverMar</th>\n",
              "      <th>PctPersDenseHous</th>\n",
              "      <th>PctKids2Par</th>\n",
              "    </tr>\n",
              "  </thead>\n",
              "  <tbody>\n",
              "    <tr>\n",
              "      <th>0</th>\n",
              "      <td>4.17</td>\n",
              "      <td>91.43</td>\n",
              "      <td>4.81</td>\n",
              "      <td>0.36</td>\n",
              "      <td>0.39</td>\n",
              "      <td>90.17</td>\n",
              "    </tr>\n",
              "    <tr>\n",
              "      <th>1</th>\n",
              "      <td>3.34</td>\n",
              "      <td>86.91</td>\n",
              "      <td>4.25</td>\n",
              "      <td>0.24</td>\n",
              "      <td>1.01</td>\n",
              "      <td>85.33</td>\n",
              "    </tr>\n",
              "    <tr>\n",
              "      <th>2</th>\n",
              "      <td>2.05</td>\n",
              "      <td>78.54</td>\n",
              "      <td>2.97</td>\n",
              "      <td>0.88</td>\n",
              "      <td>2.03</td>\n",
              "      <td>78.85</td>\n",
              "    </tr>\n",
              "    <tr>\n",
              "      <th>3</th>\n",
              "      <td>2.56</td>\n",
              "      <td>64.02</td>\n",
              "      <td>3.93</td>\n",
              "      <td>3.84</td>\n",
              "      <td>1.21</td>\n",
              "      <td>62.36</td>\n",
              "    </tr>\n",
              "    <tr>\n",
              "      <th>5</th>\n",
              "      <td>1.92</td>\n",
              "      <td>71.94</td>\n",
              "      <td>3.08</td>\n",
              "      <td>1.58</td>\n",
              "      <td>2.11</td>\n",
              "      <td>69.79</td>\n",
              "    </tr>\n",
              "    <tr>\n",
              "      <th>...</th>\n",
              "      <td>...</td>\n",
              "      <td>...</td>\n",
              "      <td>...</td>\n",
              "      <td>...</td>\n",
              "      <td>...</td>\n",
              "      <td>...</td>\n",
              "    </tr>\n",
              "    <tr>\n",
              "      <th>2210</th>\n",
              "      <td>9.91</td>\n",
              "      <td>67.04</td>\n",
              "      <td>13.49</td>\n",
              "      <td>4.49</td>\n",
              "      <td>16.89</td>\n",
              "      <td>64.81</td>\n",
              "    </tr>\n",
              "    <tr>\n",
              "      <th>2211</th>\n",
              "      <td>3.37</td>\n",
              "      <td>68.57</td>\n",
              "      <td>5.03</td>\n",
              "      <td>2.98</td>\n",
              "      <td>3.99</td>\n",
              "      <td>63.66</td>\n",
              "    </tr>\n",
              "    <tr>\n",
              "      <th>2212</th>\n",
              "      <td>3.50</td>\n",
              "      <td>76.77</td>\n",
              "      <td>5.10</td>\n",
              "      <td>1.60</td>\n",
              "      <td>4.39</td>\n",
              "      <td>74.20</td>\n",
              "    </tr>\n",
              "    <tr>\n",
              "      <th>2213</th>\n",
              "      <td>7.10</td>\n",
              "      <td>67.76</td>\n",
              "      <td>9.83</td>\n",
              "      <td>2.35</td>\n",
              "      <td>9.64</td>\n",
              "      <td>63.45</td>\n",
              "    </tr>\n",
              "    <tr>\n",
              "      <th>2214</th>\n",
              "      <td>5.70</td>\n",
              "      <td>62.64</td>\n",
              "      <td>8.58</td>\n",
              "      <td>4.85</td>\n",
              "      <td>11.31</td>\n",
              "      <td>60.23</td>\n",
              "    </tr>\n",
              "  </tbody>\n",
              "</table>\n",
              "<p>1994 rows × 6 columns</p>\n",
              "</div>"
            ],
            "text/plain": [
              "      PctLargHouseOccup  PctFam2Par  ...  PctPersDenseHous  PctKids2Par\n",
              "0                  4.17       91.43  ...              0.39        90.17\n",
              "1                  3.34       86.91  ...              1.01        85.33\n",
              "2                  2.05       78.54  ...              2.03        78.85\n",
              "3                  2.56       64.02  ...              1.21        62.36\n",
              "5                  1.92       71.94  ...              2.11        69.79\n",
              "...                 ...         ...  ...               ...          ...\n",
              "2210               9.91       67.04  ...             16.89        64.81\n",
              "2211               3.37       68.57  ...              3.99        63.66\n",
              "2212               3.50       76.77  ...              4.39        74.20\n",
              "2213               7.10       67.76  ...              9.64        63.45\n",
              "2214               5.70       62.64  ...             11.31        60.23\n",
              "\n",
              "[1994 rows x 6 columns]"
            ]
          },
          "metadata": {
            "tags": []
          },
          "execution_count": 11
        }
      ]
    },
    {
      "cell_type": "code",
      "metadata": {
        "colab": {
          "base_uri": "https://localhost:8080/"
        },
        "id": "MhNWUIBamvqq",
        "outputId": "e6510b8e-b1ca-429f-b7d6-d0b961a09ed2"
      },
      "source": [
        "# each row of a matrix is a vector:\n",
        "X_small.values[4,:].reshape(1,-1)"
      ],
      "execution_count": null,
      "outputs": [
        {
          "output_type": "execute_result",
          "data": {
            "text/plain": [
              "array([[ 1.92, 71.94,  3.08,  1.58,  2.11, 69.79]])"
            ]
          },
          "metadata": {
            "tags": []
          },
          "execution_count": 12
        }
      ]
    },
    {
      "cell_type": "code",
      "metadata": {
        "id": "vd8aKYgW5gQM",
        "colab": {
          "base_uri": "https://localhost:8080/"
        },
        "outputId": "cbc9863c-eba2-4ab0-a48a-bb81fe436378"
      },
      "source": [
        "# extract 4th row in X_small as vector\n",
        "X_small.values[4,:]"
      ],
      "execution_count": null,
      "outputs": [
        {
          "output_type": "execute_result",
          "data": {
            "text/plain": [
              "array([ 1.92, 71.94,  3.08,  1.58,  2.11, 69.79])"
            ]
          },
          "metadata": {
            "tags": []
          },
          "execution_count": 13
        }
      ]
    },
    {
      "cell_type": "markdown",
      "metadata": {
        "id": "-O_gxhqsIVcB"
      },
      "source": [
        "`model.predict_` method works with **matrix** of the same number of columns as when we `.fit()` the model:"
      ]
    },
    {
      "cell_type": "code",
      "metadata": {
        "colab": {
          "base_uri": "https://localhost:8080/"
        },
        "id": "fYt5pmXBItUT",
        "outputId": "ce0a4cf1-569d-4c11-a7f1-ef95b753e4b4"
      },
      "source": [
        "# extracting rows 0,1 from X_small\n",
        "x = X_small.values[0:10,:] # we'll need to learn this syntax\n",
        "x"
      ],
      "execution_count": null,
      "outputs": [
        {
          "output_type": "execute_result",
          "data": {
            "text/plain": [
              "array([[ 4.17, 91.43,  4.81,  0.36,  0.39, 90.17],\n",
              "       [ 3.34, 86.91,  4.25,  0.24,  1.01, 85.33],\n",
              "       [ 2.05, 78.54,  2.97,  0.88,  2.03, 78.85],\n",
              "       [ 2.56, 64.02,  3.93,  3.84,  1.21, 62.36],\n",
              "       [ 1.92, 71.94,  3.08,  1.58,  2.11, 69.79],\n",
              "       [ 3.46, 79.53,  5.08,  1.18,  1.47, 79.76],\n",
              "       [ 2.55, 62.56,  3.85,  4.66,  1.9 , 58.7 ],\n",
              "       [ 1.54, 79.35,  2.59,  1.64,  1.67, 79.7 ],\n",
              "       [ 4.1 , 61.65,  6.7 ,  4.71,  6.14, 54.56],\n",
              "       [ 2.51, 68.41,  3.66,  2.47,  3.41, 64.64]])"
            ]
          },
          "metadata": {
            "tags": []
          },
          "execution_count": 14
        }
      ]
    },
    {
      "cell_type": "code",
      "metadata": {
        "colab": {
          "base_uri": "https://localhost:8080/"
        },
        "id": "hl6M0eDWhclQ",
        "outputId": "a2e2b3d1-f099-41a1-bc08-a675b512e8e0"
      },
      "source": [
        "ridge_model.predict(x)"
      ],
      "execution_count": null,
      "outputs": [
        {
          "output_type": "execute_result",
          "data": {
            "text/plain": [
              "array([ -35.96484787,   72.13029811,  202.22219424,  701.8842388 ,\n",
              "        455.7582274 ,  229.18952011,  867.66665453,  257.87726372,\n",
              "       1124.44181133,  635.52727854])"
            ]
          },
          "metadata": {
            "tags": []
          },
          "execution_count": 15
        }
      ]
    },
    {
      "cell_type": "code",
      "metadata": {
        "colab": {
          "base_uri": "https://localhost:8080/"
        },
        "id": "A0ewAQSTKUEE",
        "outputId": "bf10333f-84d0-45e6-bc25-8a4061faecc5"
      },
      "source": [
        "# we could also predict crime rate for a made-up town, by making up a town:\n",
        "town = np.array([[4,90,5, 1, 1, 90]])\n",
        "ridge_model.predict(town)"
      ],
      "execution_count": null,
      "outputs": [
        {
          "output_type": "execute_result",
          "data": {
            "text/plain": [
              "array([20.04142942])"
            ]
          },
          "metadata": {
            "tags": []
          },
          "execution_count": 16
        }
      ]
    },
    {
      "cell_type": "markdown",
      "metadata": {
        "id": "4t3qXw9oLnc2"
      },
      "source": [
        "Notice the difference beween matrix and vectors"
      ]
    },
    {
      "cell_type": "code",
      "metadata": {
        "colab": {
          "base_uri": "https://localhost:8080/"
        },
        "id": "rYL9Av28K0iL",
        "outputId": "2c3b7319-94b9-403b-b9f6-3ac498b7897a"
      },
      "source": [
        "#matrix\n",
        "m = np.array([[4,90,5, 1, 1, 90]])\n",
        "m"
      ],
      "execution_count": null,
      "outputs": [
        {
          "output_type": "execute_result",
          "data": {
            "text/plain": [
              "array([[ 4, 90,  5,  1,  1, 90]])"
            ]
          },
          "metadata": {
            "tags": []
          },
          "execution_count": 17
        }
      ]
    },
    {
      "cell_type": "code",
      "metadata": {
        "colab": {
          "base_uri": "https://localhost:8080/"
        },
        "id": "cmG9aqMMLv9f",
        "outputId": "cbe20332-c35b-4703-fca7-668caa611907"
      },
      "source": [
        "m2 = np.array([[1,2],[3,4]])\n",
        "m2"
      ],
      "execution_count": null,
      "outputs": [
        {
          "output_type": "execute_result",
          "data": {
            "text/plain": [
              "array([[1, 2],\n",
              "       [3, 4]])"
            ]
          },
          "metadata": {
            "tags": []
          },
          "execution_count": 18
        }
      ]
    },
    {
      "cell_type": "code",
      "metadata": {
        "colab": {
          "base_uri": "https://localhost:8080/"
        },
        "id": "KgHKACdkK_hE",
        "outputId": "e1da1feb-1891-45ea-b7d8-7efd5f74a88c"
      },
      "source": [
        "# vector\n",
        "v = np.array([4,90,5, 1, 1, 90])\n",
        "v"
      ],
      "execution_count": null,
      "outputs": [
        {
          "output_type": "execute_result",
          "data": {
            "text/plain": [
              "array([ 4, 90,  5,  1,  1, 90])"
            ]
          },
          "metadata": {
            "tags": []
          },
          "execution_count": 19
        }
      ]
    },
    {
      "cell_type": "markdown",
      "metadata": {
        "id": "Lu0etmoLMFop"
      },
      "source": [
        "7. Making and interpreting predictions with a linear model with method `.coef_`"
      ]
    },
    {
      "cell_type": "code",
      "metadata": {
        "colab": {
          "base_uri": "https://localhost:8080/"
        },
        "id": "I6TiJ6DlMqSn",
        "outputId": "68e2c993-496d-4f25-f44d-d51ae9f452fb"
      },
      "source": [
        "# all linear models produce a set of coefficients\n",
        "ridge_model.coef_"
      ],
      "execution_count": null,
      "outputs": [
        {
          "output_type": "execute_result",
          "data": {
            "text/plain": [
              "array([-87.96702512,  23.19382765,  69.98805505,  72.36874367,\n",
              "        13.6158932 , -37.05667818])"
            ]
          },
          "metadata": {
            "tags": []
          },
          "execution_count": 20
        }
      ]
    },
    {
      "cell_type": "code",
      "metadata": {
        "colab": {
          "base_uri": "https://localhost:8080/"
        },
        "id": "Bon_j3ZNNFu2",
        "outputId": "ef79fadb-e999-465f-b27e-88939a5daea8"
      },
      "source": [
        "# each of these is associated with single feature column:\n",
        "X_small.columns"
      ],
      "execution_count": null,
      "outputs": [
        {
          "output_type": "execute_result",
          "data": {
            "text/plain": [
              "Index(['PctLargHouseOccup', 'PctFam2Par', 'PctLargHouseFam',\n",
              "       'PctKidsBornNeverMar', 'PctPersDenseHous', 'PctKids2Par'],\n",
              "      dtype='object')"
            ]
          },
          "metadata": {
            "tags": []
          },
          "execution_count": 21
        }
      ]
    },
    {
      "cell_type": "code",
      "metadata": {
        "colab": {
          "base_uri": "https://localhost:8080/",
          "height": 235
        },
        "id": "sgu5wSIfMeea",
        "outputId": "350c4f18-916a-49ed-adb7-40f00061b3b1"
      },
      "source": [
        "# we put them together in a dataframe \n",
        "pd.DataFrame({'column': X_small.columns, 'coefficient': ridge_model.coef_})"
      ],
      "execution_count": null,
      "outputs": [
        {
          "output_type": "execute_result",
          "data": {
            "text/html": [
              "<div>\n",
              "<style scoped>\n",
              "    .dataframe tbody tr th:only-of-type {\n",
              "        vertical-align: middle;\n",
              "    }\n",
              "\n",
              "    .dataframe tbody tr th {\n",
              "        vertical-align: top;\n",
              "    }\n",
              "\n",
              "    .dataframe thead th {\n",
              "        text-align: right;\n",
              "    }\n",
              "</style>\n",
              "<table border=\"1\" class=\"dataframe\">\n",
              "  <thead>\n",
              "    <tr style=\"text-align: right;\">\n",
              "      <th></th>\n",
              "      <th>column</th>\n",
              "      <th>coefficient</th>\n",
              "    </tr>\n",
              "  </thead>\n",
              "  <tbody>\n",
              "    <tr>\n",
              "      <th>0</th>\n",
              "      <td>PctLargHouseOccup</td>\n",
              "      <td>-87.967025</td>\n",
              "    </tr>\n",
              "    <tr>\n",
              "      <th>1</th>\n",
              "      <td>PctFam2Par</td>\n",
              "      <td>23.193828</td>\n",
              "    </tr>\n",
              "    <tr>\n",
              "      <th>2</th>\n",
              "      <td>PctLargHouseFam</td>\n",
              "      <td>69.988055</td>\n",
              "    </tr>\n",
              "    <tr>\n",
              "      <th>3</th>\n",
              "      <td>PctKidsBornNeverMar</td>\n",
              "      <td>72.368744</td>\n",
              "    </tr>\n",
              "    <tr>\n",
              "      <th>4</th>\n",
              "      <td>PctPersDenseHous</td>\n",
              "      <td>13.615893</td>\n",
              "    </tr>\n",
              "    <tr>\n",
              "      <th>5</th>\n",
              "      <td>PctKids2Par</td>\n",
              "      <td>-37.056678</td>\n",
              "    </tr>\n",
              "  </tbody>\n",
              "</table>\n",
              "</div>"
            ],
            "text/plain": [
              "                column  coefficient\n",
              "0    PctLargHouseOccup   -87.967025\n",
              "1           PctFam2Par    23.193828\n",
              "2      PctLargHouseFam    69.988055\n",
              "3  PctKidsBornNeverMar    72.368744\n",
              "4     PctPersDenseHous    13.615893\n",
              "5          PctKids2Par   -37.056678"
            ]
          },
          "metadata": {
            "tags": []
          },
          "execution_count": 22
        }
      ]
    },
    {
      "cell_type": "code",
      "metadata": {
        "colab": {
          "base_uri": "https://localhost:8080/"
        },
        "id": "p7kvohf1M8wk",
        "outputId": "95de5aae-a525-4074-bc5c-751b96fe3614"
      },
      "source": [
        "# we predict crime rate for a made-up town, by making up a town:\n",
        "town = np.array([[4,90,5, 1, 1, 90]])\n",
        "ridge_model.predict(town)"
      ],
      "execution_count": null,
      "outputs": [
        {
          "output_type": "execute_result",
          "data": {
            "text/plain": [
              "array([20.04142942])"
            ]
          },
          "metadata": {
            "tags": []
          },
          "execution_count": 23
        }
      ]
    },
    {
      "cell_type": "markdown",
      "metadata": {
        "id": "YBg957hXOwNG"
      },
      "source": [
        "What if the town's rate of large house occupation increase by 1 per cent? Compare our prediction for town"
      ]
    },
    {
      "cell_type": "code",
      "metadata": {
        "colab": {
          "base_uri": "https://localhost:8080/"
        },
        "id": "hZzWf2iQNrEi",
        "outputId": "983af9e4-23c3-4b50-8efd-aa38bdb146d1"
      },
      "source": [
        "# how to increase one value of a matrix by 1\n",
        "town + np.array([[1, 0,0,0,0,0]])"
      ],
      "execution_count": null,
      "outputs": [
        {
          "output_type": "execute_result",
          "data": {
            "text/plain": [
              "array([[ 5, 90,  5,  1,  1, 90]])"
            ]
          },
          "metadata": {
            "tags": []
          },
          "execution_count": 24
        }
      ]
    },
    {
      "cell_type": "code",
      "metadata": {
        "colab": {
          "base_uri": "https://localhost:8080/"
        },
        "id": "vO_A1a7dOUvT",
        "outputId": "bec101cd-c080-4b7f-fb69-6682832e777b"
      },
      "source": [
        "ridge_model.predict(town + np.array([[1, 0,0,0,0,0]]))"
      ],
      "execution_count": null,
      "outputs": [
        {
          "output_type": "execute_result",
          "data": {
            "text/plain": [
              "array([-67.9255957])"
            ]
          },
          "metadata": {
            "tags": []
          },
          "execution_count": 25
        }
      ]
    },
    {
      "cell_type": "markdown",
      "metadata": {
        "id": "gU01P_90PJZ1"
      },
      "source": [
        "What if the town's rate kids with both parents increase by 1 per cent? Compare with our prediction for town."
      ]
    },
    {
      "cell_type": "code",
      "metadata": {
        "id": "jfR4CWitPIO9",
        "colab": {
          "base_uri": "https://localhost:8080/"
        },
        "outputId": "c71bcf74-be23-4812-efd0-f873366e1fd2"
      },
      "source": [
        "town + np.array([[0,0,0,0,0,1]])"
      ],
      "execution_count": null,
      "outputs": [
        {
          "output_type": "execute_result",
          "data": {
            "text/plain": [
              "array([[ 4, 90,  5,  1,  1, 91]])"
            ]
          },
          "metadata": {
            "tags": []
          },
          "execution_count": 26
        }
      ]
    },
    {
      "cell_type": "code",
      "metadata": {
        "colab": {
          "base_uri": "https://localhost:8080/"
        },
        "id": "D_-e5lBiQQQx",
        "outputId": "6f7ffd45-789f-41d3-b1a5-0039404fff7b"
      },
      "source": [
        "ridge_model.predict(town + np.array([[0,0,0,0,0,1]]))"
      ],
      "execution_count": null,
      "outputs": [
        {
          "output_type": "execute_result",
          "data": {
            "text/plain": [
              "array([-17.01524876])"
            ]
          },
          "metadata": {
            "tags": []
          },
          "execution_count": 27
        }
      ]
    },
    {
      "cell_type": "markdown",
      "metadata": {
        "id": "VDCnRaIKQaJJ"
      },
      "source": [
        "8. Interpret linear model's coefficients"
      ]
    },
    {
      "cell_type": "code",
      "metadata": {
        "colab": {
          "base_uri": "https://localhost:8080/"
        },
        "id": "J8oYbegJ-Ecv",
        "outputId": "6ed0bb1f-c60b-4b72-80d0-c50b01c1d914"
      },
      "source": [
        "# compare how our prediction changes when increasing by 1\n",
        "ridge_model.predict(town + np.array([[0, 0,0,0,0,1]])) - ridge_model.predict(town)"
      ],
      "execution_count": null,
      "outputs": [
        {
          "output_type": "execute_result",
          "data": {
            "text/plain": [
              "array([-37.05667818])"
            ]
          },
          "metadata": {
            "tags": []
          },
          "execution_count": 28
        }
      ]
    },
    {
      "cell_type": "code",
      "metadata": {
        "id": "y8pyNUeS_KKO"
      },
      "source": [
        "# *** Summarize interpretation od linear models\n",
        "# Our prediction model produces a list of coefficent by the method .coef_.\n",
        "\n",
        "# Each coefficent is matched with one feature in the data\n",
        "\n",
        "# **Experiment**: Increase the value of one feature by 1 unit while holding the value of all other features the same. How does the model predict for the outcome change?\n",
        "\n",
        "# Answer: The model prediction would change by the exact value of the coefficent associated with the changing feature in our experiment.\n",
        "\n",
        "# **Warning**: Other SKlearn regression models also have '.predict()' method but not all of them can be interpreted in this manner. "
      ],
      "execution_count": null,
      "outputs": []
    },
    {
      "cell_type": "code",
      "metadata": {
        "id": "5JnBMVKjBtqS",
        "colab": {
          "base_uri": "https://localhost:8080/",
          "height": 235
        },
        "outputId": "a62e5901-a3d6-465c-d89b-053908355774"
      },
      "source": [
        "pd.DataFrame({'column': X_small.columns, 'coefficient': ridge_model.coef_})"
      ],
      "execution_count": null,
      "outputs": [
        {
          "output_type": "execute_result",
          "data": {
            "text/html": [
              "<div>\n",
              "<style scoped>\n",
              "    .dataframe tbody tr th:only-of-type {\n",
              "        vertical-align: middle;\n",
              "    }\n",
              "\n",
              "    .dataframe tbody tr th {\n",
              "        vertical-align: top;\n",
              "    }\n",
              "\n",
              "    .dataframe thead th {\n",
              "        text-align: right;\n",
              "    }\n",
              "</style>\n",
              "<table border=\"1\" class=\"dataframe\">\n",
              "  <thead>\n",
              "    <tr style=\"text-align: right;\">\n",
              "      <th></th>\n",
              "      <th>column</th>\n",
              "      <th>coefficient</th>\n",
              "    </tr>\n",
              "  </thead>\n",
              "  <tbody>\n",
              "    <tr>\n",
              "      <th>0</th>\n",
              "      <td>PctLargHouseOccup</td>\n",
              "      <td>-87.967025</td>\n",
              "    </tr>\n",
              "    <tr>\n",
              "      <th>1</th>\n",
              "      <td>PctFam2Par</td>\n",
              "      <td>23.193828</td>\n",
              "    </tr>\n",
              "    <tr>\n",
              "      <th>2</th>\n",
              "      <td>PctLargHouseFam</td>\n",
              "      <td>69.988055</td>\n",
              "    </tr>\n",
              "    <tr>\n",
              "      <th>3</th>\n",
              "      <td>PctKidsBornNeverMar</td>\n",
              "      <td>72.368744</td>\n",
              "    </tr>\n",
              "    <tr>\n",
              "      <th>4</th>\n",
              "      <td>PctPersDenseHous</td>\n",
              "      <td>13.615893</td>\n",
              "    </tr>\n",
              "    <tr>\n",
              "      <th>5</th>\n",
              "      <td>PctKids2Par</td>\n",
              "      <td>-37.056678</td>\n",
              "    </tr>\n",
              "  </tbody>\n",
              "</table>\n",
              "</div>"
            ],
            "text/plain": [
              "                column  coefficient\n",
              "0    PctLargHouseOccup   -87.967025\n",
              "1           PctFam2Par    23.193828\n",
              "2      PctLargHouseFam    69.988055\n",
              "3  PctKidsBornNeverMar    72.368744\n",
              "4     PctPersDenseHous    13.615893\n",
              "5          PctKids2Par   -37.056678"
            ]
          },
          "metadata": {
            "tags": []
          },
          "execution_count": 33
        }
      ]
    },
    {
      "cell_type": "markdown",
      "metadata": {
        "id": "ubhdEAnqQmc2"
      },
      "source": [
        "## Prediction errors and MSE"
      ]
    },
    {
      "cell_type": "code",
      "metadata": {
        "id": "CsVRK65GQrPZ",
        "colab": {
          "base_uri": "https://localhost:8080/"
        },
        "outputId": "82c3d6d5-20e4-4fe9-ba57-d6fed5441ce1"
      },
      "source": [
        "# a random town in the data (matrix version)\n",
        "X_small.values[1545,:].reshape(1,-1)"
      ],
      "execution_count": null,
      "outputs": [
        {
          "output_type": "execute_result",
          "data": {
            "text/plain": [
              "array([[ 1.97, 76.11,  3.07,  1.1 ,  1.31, 75.93]])"
            ]
          },
          "metadata": {
            "tags": []
          },
          "execution_count": 34
        }
      ]
    },
    {
      "cell_type": "code",
      "metadata": {
        "id": "nEhGawQ2Q9zk",
        "colab": {
          "base_uri": "https://localhost:8080/"
        },
        "outputId": "8c5fa52f-83f5-448c-f2a0-08bcb7ba2933"
      },
      "source": [
        "# our prediction for its crime rate:\n",
        "ridge_model.predict(X_small.values[1545,:].reshape(1,-1))"
      ],
      "execution_count": null,
      "outputs": [
        {
          "output_type": "execute_result",
          "data": {
            "text/plain": [
              "array([274.22054135])"
            ]
          },
          "metadata": {
            "tags": []
          },
          "execution_count": 35
        }
      ]
    },
    {
      "cell_type": "code",
      "metadata": {
        "id": "wUTp1MtsizeJ",
        "colab": {
          "base_uri": "https://localhost:8080/"
        },
        "outputId": "5e9f9593-44f2-4322-9dc3-1c1429ca2694"
      },
      "source": [
        "# the actual crime rate:\n",
        "Y_crime.loc[1545]"
      ],
      "execution_count": null,
      "outputs": [
        {
          "output_type": "execute_result",
          "data": {
            "text/plain": [
              "1230.84"
            ]
          },
          "metadata": {
            "tags": []
          },
          "execution_count": 36
        }
      ]
    },
    {
      "cell_type": "code",
      "metadata": {
        "id": "QAcYFKjjRPUX",
        "colab": {
          "base_uri": "https://localhost:8080/"
        },
        "outputId": "52e041d2-6a04-4fa0-b602-f36e992e9c5b"
      },
      "source": [
        "# our prediction errors:\n",
        "Y_crime.loc[1545] - ridge_model.predict(X_small.values[1545,:].reshape(1,-1))\n"
      ],
      "execution_count": null,
      "outputs": [
        {
          "output_type": "execute_result",
          "data": {
            "text/plain": [
              "array([956.61945865])"
            ]
          },
          "metadata": {
            "tags": []
          },
          "execution_count": 37
        }
      ]
    },
    {
      "cell_type": "markdown",
      "metadata": {
        "id": "43OjzoCM5saS"
      },
      "source": [
        "9. Model prediction for a whole dataset:"
      ]
    },
    {
      "cell_type": "code",
      "metadata": {
        "id": "h8BHc7L2jEtg",
        "colab": {
          "base_uri": "https://localhost:8080/"
        },
        "outputId": "ace2186b-9031-460b-9077-6d5063744ee8"
      },
      "source": [
        "ridge_model.predict(X_small.values)"
      ],
      "execution_count": null,
      "outputs": [
        {
          "output_type": "execute_result",
          "data": {
            "text/plain": [
              "array([ -35.96484787,   72.13029811,  202.22219424, ...,  439.24404706,\n",
              "        768.74915736, 1008.64843071])"
            ]
          },
          "metadata": {
            "tags": []
          },
          "execution_count": 38
        }
      ]
    },
    {
      "cell_type": "code",
      "metadata": {
        "id": "ow-KOwrVRY_e",
        "colab": {
          "base_uri": "https://localhost:8080/"
        },
        "outputId": "a09ab66e-2efd-4176-b944-73e27a63531d"
      },
      "source": [
        "# use command len() to count the length of an array\n",
        "len(ridge_model.predict(X_small.values))"
      ],
      "execution_count": null,
      "outputs": [
        {
          "output_type": "execute_result",
          "data": {
            "text/plain": [
              "1994"
            ]
          },
          "metadata": {
            "tags": []
          },
          "execution_count": 39
        }
      ]
    },
    {
      "cell_type": "markdown",
      "metadata": {
        "id": "TmbO_VqCgpAh"
      },
      "source": [
        "Using linear algebra we calculat errors for all predictions at once:"
      ]
    },
    {
      "cell_type": "code",
      "metadata": {
        "id": "KXzFLPoSDwfq",
        "colab": {
          "base_uri": "https://localhost:8080/"
        },
        "outputId": "b5d390a6-2142-48ec-c4e2-10384de9928a"
      },
      "source": [
        "Y_crime"
      ],
      "execution_count": null,
      "outputs": [
        {
          "output_type": "execute_result",
          "data": {
            "text/plain": [
              "0        41.02\n",
              "1       127.56\n",
              "2       218.59\n",
              "3       306.64\n",
              "5       442.95\n",
              "         ...  \n",
              "2210    545.75\n",
              "2211    124.10\n",
              "2212    353.83\n",
              "2213    691.17\n",
              "2214    918.89\n",
              "Name: ViolentCrimesPerPop, Length: 1994, dtype: float64"
            ]
          },
          "metadata": {
            "tags": []
          },
          "execution_count": 40
        }
      ]
    },
    {
      "cell_type": "markdown",
      "metadata": {
        "id": "O3S2t7BnEpfN"
      },
      "source": [
        "Mean squared errors algorithm:\n",
        "- calulate prediction error for wach and every predicitioon (actual y - predictied y).\n",
        "- calculate the square of each and every error.\n",
        "- calculate the mean of all the squared errors calculated by the first 2 steps."
      ]
    },
    {
      "cell_type": "markdown",
      "metadata": {
        "id": "fDY9YeLT6HWe"
      },
      "source": [
        "Defintion of mean squared error:\n",
        "$$ \\frac{1}{N} \\sum_{i=1}^{N}{(y_i-\\hat{y_i})^2}$$"
      ]
    },
    {
      "cell_type": "markdown",
      "metadata": {
        "id": "TI1rU6X5iR2A"
      },
      "source": [
        "Maybe a little viz can help:\n",
        "![image.png](data:image/png;base64,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)"
      ]
    },
    {
      "cell_type": "code",
      "metadata": {
        "id": "cr2oti4ykeuf",
        "colab": {
          "base_uri": "https://localhost:8080/"
        },
        "outputId": "2f522150-2507-4757-c5d3-d9e5779e572e"
      },
      "source": [
        "# regression errors = y - predicted y\n",
        "Y_crime - ridge_model.predict(X_small.values)"
      ],
      "execution_count": null,
      "outputs": [
        {
          "output_type": "execute_result",
          "data": {
            "text/plain": [
              "0        76.984848\n",
              "1        55.429702\n",
              "2        16.367806\n",
              "3      -395.244239\n",
              "5       -12.808227\n",
              "           ...    \n",
              "2210   -418.455797\n",
              "2211   -616.491107\n",
              "2212    -85.414047\n",
              "2213    -77.579157\n",
              "2214    -89.758431\n",
              "Name: ViolentCrimesPerPop, Length: 1994, dtype: float64"
            ]
          },
          "metadata": {
            "tags": []
          },
          "execution_count": 41
        }
      ]
    },
    {
      "cell_type": "code",
      "metadata": {
        "id": "psjkO3k9GAfU",
        "colab": {
          "base_uri": "https://localhost:8080/"
        },
        "outputId": "4159cd59-58ca-4dc5-b4ca-fbf08c943cdf"
      },
      "source": [
        "((Y_crime - ridge_model.predict(X_small.values))**2)"
      ],
      "execution_count": null,
      "outputs": [
        {
          "output_type": "execute_result",
          "data": {
            "text/plain": [
              "0         5926.666802\n",
              "1         3072.451852\n",
              "2          267.905065\n",
              "3       156218.008304\n",
              "5          164.050689\n",
              "            ...      \n",
              "2210    175105.254207\n",
              "2211    380061.284667\n",
              "2212      7295.559435\n",
              "2213      6018.525657\n",
              "2214      8056.575884\n",
              "Name: ViolentCrimesPerPop, Length: 1994, dtype: float64"
            ]
          },
          "metadata": {
            "tags": []
          },
          "execution_count": 42
        }
      ]
    },
    {
      "cell_type": "code",
      "metadata": {
        "id": "gY2TJJ97krJC",
        "colab": {
          "base_uri": "https://localhost:8080/"
        },
        "outputId": "1fa10632-db9d-4d16-958a-addfb73fd20d"
      },
      "source": [
        "# square up the errors and take the mean\n",
        "np.mean((Y_crime - ridge_model.predict(X_small.values))**2)"
      ],
      "execution_count": null,
      "outputs": [
        {
          "output_type": "execute_result",
          "data": {
            "text/plain": [
              "151955.33503171438"
            ]
          },
          "metadata": {
            "tags": []
          },
          "execution_count": 43
        }
      ]
    },
    {
      "cell_type": "code",
      "metadata": {
        "id": "zMPDOwMVlBRZ",
        "colab": {
          "base_uri": "https://localhost:8080/"
        },
        "outputId": "62fff07f-7cf8-457a-9251-da5f88dc92bf"
      },
      "source": [
        "from sklearn.metrics import mean_squared_error\n",
        "mean_squared_error(Y_crime, ridge_model.predict(X_small.values))"
      ],
      "execution_count": null,
      "outputs": [
        {
          "output_type": "execute_result",
          "data": {
            "text/plain": [
              "151955.33503171458"
            ]
          },
          "metadata": {
            "tags": []
          },
          "execution_count": 44
        }
      ]
    },
    {
      "cell_type": "markdown",
      "metadata": {
        "id": "_vee9xRAiBQw"
      },
      "source": [
        "The MSE formula $$ \\frac{1}{N} \\sum_{i=1}^{N}{(y_i-\\bar{Y}_{1})^2}$$ for any prediction model is a measurement of how much (squared) errors we make while predicting with that model.\n",
        "\n",
        "The simplest prediction model is just the mean of Y, denoted $\\bar{Y}$/. When we use $\\bar{Y}$ as a predictor, the mean amount of squared errors we make is called variance, denoted as $var{Y}$. this would be the benchmark amount of squared error against which we compare all other prediction models.\n",
        "\n",
        "when our prediction model makes amount of squared erros = MSE, it means that our model helps us reduce prediction error by the amount $var{Y} - MSE$. As a fraction of the benchmark errror, this amount is $$ R^2 = \\frac{var(Y) - MSE}{var(Y)}$$"
      ]
    },
    {
      "cell_type": "markdown",
      "metadata": {
        "id": "N89ZFRiMSXdc"
      },
      "source": [
        "## Exercise"
      ]
    },
    {
      "cell_type": "code",
      "metadata": {
        "id": "KftKicMBiwL6",
        "colab": {
          "base_uri": "https://localhost:8080/"
        },
        "outputId": "5ea0d59b-be86-45a6-d0ab-1c419d2af833"
      },
      "source": [
        "# we'll apply the formula above to calculate r2 score\n",
        "from sklearn.metrics import r2_score\n",
        "r2_score(Y_crime, ridge_model.predict(X_small.values))"
      ],
      "execution_count": null,
      "outputs": [
        {
          "output_type": "execute_result",
          "data": {
            "text/plain": [
              "0.5977574928650806"
            ]
          },
          "metadata": {
            "tags": []
          },
          "execution_count": 45
        }
      ]
    },
    {
      "cell_type": "markdown",
      "metadata": {
        "id": "Ya3U35EaSdtW"
      },
      "source": [
        "- Calculate the mean of the array `Y_crime` with command `np.mean()`\n",
        "- Calculate the variance of the array `Y_crime` with command `np.var()` \n",
        "- Calculate the formula $$ \\frac{1}{N} \\sum_{i=1}^{N}{(y_i-\\bar{Y}_{crime})^2}$$ by:\n",
        "  * Subtract the mean of Y_crime from each and every element of Y_crime\n",
        "  * Square up the differences\n",
        "  * Take the average of all the difference"
      ]
    },
    {
      "cell_type": "markdown",
      "metadata": {
        "id": "Y7_L4EgZTzJw"
      },
      "source": [
        "Calculate R2 for the ridge model by the formula:\n",
        "$$\\frac{var(Y_{crime})-MSE}{var(Y_{crime})}$$"
      ]
    },
    {
      "cell_type": "code",
      "metadata": {
        "id": "EbT4K5ZTSpuA",
        "colab": {
          "base_uri": "https://localhost:8080/"
        },
        "outputId": "5a44dacd-c7c7-4f31-a420-7eabc19a32fc"
      },
      "source": [
        "np.mean(Y_crime)"
      ],
      "execution_count": null,
      "outputs": [
        {
          "output_type": "execute_result",
          "data": {
            "text/plain": [
              "589.0789217652964"
            ]
          },
          "metadata": {
            "tags": []
          },
          "execution_count": 46
        }
      ]
    },
    {
      "cell_type": "code",
      "metadata": {
        "id": "eQfmPuegITha",
        "colab": {
          "base_uri": "https://localhost:8080/"
        },
        "outputId": "b53daa35-80e0-4b34-c02e-c553a66c2999"
      },
      "source": [
        "np.var(Y_crime)"
      ],
      "execution_count": null,
      "outputs": [
        {
          "output_type": "execute_result",
          "data": {
            "text/plain": [
              "377770.4552262694"
            ]
          },
          "metadata": {
            "tags": []
          },
          "execution_count": 47
        }
      ]
    },
    {
      "cell_type": "code",
      "metadata": {
        "id": "ZnLQnjU0IXr5",
        "colab": {
          "base_uri": "https://localhost:8080/"
        },
        "outputId": "60f9bf35-2bbc-464c-a9ad-5c208405c5d4"
      },
      "source": [
        "(np.var(Y_crime) - mean_squared_error(Y_crime, ridge_model.predict(X_small.values)))/np.var(Y_crime)"
      ],
      "execution_count": null,
      "outputs": [
        {
          "output_type": "execute_result",
          "data": {
            "text/plain": [
              "0.5977574928650802"
            ]
          },
          "metadata": {
            "tags": []
          },
          "execution_count": 48
        }
      ]
    },
    {
      "cell_type": "markdown",
      "metadata": {
        "id": "mKk3l-MO7GJx"
      },
      "source": [
        "What does MSE mean?"
      ]
    },
    {
      "cell_type": "code",
      "metadata": {
        "id": "NeE1ibSMKw5U",
        "colab": {
          "base_uri": "https://localhost:8080/"
        },
        "outputId": "13216863-9c9d-4795-d784-046ebf7ed097"
      },
      "source": [
        "Y_crime - np.mean(Y_crime)"
      ],
      "execution_count": null,
      "outputs": [
        {
          "output_type": "execute_result",
          "data": {
            "text/plain": [
              "0      -548.058922\n",
              "1      -461.518922\n",
              "2      -370.488922\n",
              "3      -282.438922\n",
              "5      -146.128922\n",
              "           ...    \n",
              "2210    -43.328922\n",
              "2211   -464.978922\n",
              "2212   -235.248922\n",
              "2213    102.091078\n",
              "2214    329.811078\n",
              "Name: ViolentCrimesPerPop, Length: 1994, dtype: float64"
            ]
          },
          "metadata": {
            "tags": []
          },
          "execution_count": 49
        }
      ]
    },
    {
      "cell_type": "code",
      "metadata": {
        "id": "CQ_lOlWmK8Rb",
        "colab": {
          "base_uri": "https://localhost:8080/"
        },
        "outputId": "baebd20b-6aab-4300-bd46-adbfa8e97a4d"
      },
      "source": [
        "(Y_crime - np.mean(Y_crime))**2"
      ],
      "execution_count": null,
      "outputs": [
        {
          "output_type": "execute_result",
          "data": {
            "text/plain": [
              "0       300368.581727\n",
              "1       212999.715147\n",
              "2       137262.041151\n",
              "3        79771.744528\n",
              "5        21353.661776\n",
              "            ...      \n",
              "2210      1877.395461\n",
              "2211    216205.397686\n",
              "2212     55342.055192\n",
              "2213     10422.588255\n",
              "2214    108775.347326\n",
              "Name: ViolentCrimesPerPop, Length: 1994, dtype: float64"
            ]
          },
          "metadata": {
            "tags": []
          },
          "execution_count": 50
        }
      ]
    },
    {
      "cell_type": "code",
      "metadata": {
        "id": "P5kHaMuyLLCW",
        "colab": {
          "base_uri": "https://localhost:8080/"
        },
        "outputId": "7867e582-7dca-4653-d1f2-00907362af30"
      },
      "source": [
        "np.mean((Y_crime - np.mean(Y_crime))**2)"
      ],
      "execution_count": null,
      "outputs": [
        {
          "output_type": "execute_result",
          "data": {
            "text/plain": [
              "377770.4552262694"
            ]
          },
          "metadata": {
            "tags": []
          },
          "execution_count": 51
        }
      ]
    },
    {
      "cell_type": "markdown",
      "metadata": {
        "id": "4qRXlI7WopOh"
      },
      "source": [
        "## How does a linear model make prediction?"
      ]
    },
    {
      "cell_type": "code",
      "metadata": {
        "id": "JIO1sJbCmJrA",
        "colab": {
          "base_uri": "https://localhost:8080/"
        },
        "outputId": "67044f43-b199-46ee-b114-f8ed73313fa3"
      },
      "source": [
        "print(ridge_model.intercept_)\n",
        "print(ridge_model.coef_)"
      ],
      "execution_count": null,
      "outputs": [
        {
          "output_type": "stream",
          "text": [
            "1183.641165413104\n",
            "[-87.96702512  23.19382765  69.98805505  72.36874367  13.6158932\n",
            " -37.05667818]\n"
          ],
          "name": "stdout"
        }
      ]
    },
    {
      "cell_type": "code",
      "metadata": {
        "id": "Bmw4feLcmNl8",
        "colab": {
          "base_uri": "https://localhost:8080/"
        },
        "outputId": "e677f13a-154a-49a7-8b39-169aa55530db"
      },
      "source": [
        "X_small.columns"
      ],
      "execution_count": null,
      "outputs": [
        {
          "output_type": "execute_result",
          "data": {
            "text/plain": [
              "Index(['PctLargHouseOccup', 'PctFam2Par', 'PctLargHouseFam',\n",
              "       'PctKidsBornNeverMar', 'PctPersDenseHous', 'PctKids2Par'],\n",
              "      dtype='object')"
            ]
          },
          "metadata": {
            "tags": []
          },
          "execution_count": 53
        }
      ]
    },
    {
      "cell_type": "markdown",
      "metadata": {
        "id": "PSs1TkYQmYnH"
      },
      "source": [
        "A linear model predicting crime numbers in a community:\n",
        "\n",
        "Crime per Capita = an intercept + PctLargeHouseOccup * (-87) + PctFam2Par * (23) + ... + PctKids2Par * (-37)\n",
        "\n",
        "A more general, mathematic representation:\n",
        "$$ \\hat{y} = a+ x_0*b_0 + x_1*b_1 + \\ldots + x_k*b_k$$\n",
        "\n",
        "**Linear algebra** allows us to do this calculation along all rows of the dataframe at once:\n",
        "$$ \\hat{Y} = a+ X_0*b_0 + X_1*b_1 + \\ldots + X_k*b_k + {error}$$\n",
        "\n",
        "Then even more fanceeeee:\n",
        "$$ Y = a+ X@b^\\intercal + {residual}$$\n",
        "\n"
      ]
    },
    {
      "cell_type": "code",
      "metadata": {
        "id": "IyOK9Bu_meOn"
      },
      "source": [
        "a = ridge_model.intercept_\n",
        "b = ridge_model.coef_"
      ],
      "execution_count": null,
      "outputs": []
    },
    {
      "cell_type": "code",
      "metadata": {
        "id": "grN2MKKomwBw",
        "colab": {
          "base_uri": "https://localhost:8080/"
        },
        "outputId": "92e4d917-4f4f-4cdf-8224-86e4b12bbb59"
      },
      "source": [
        "a"
      ],
      "execution_count": null,
      "outputs": [
        {
          "output_type": "execute_result",
          "data": {
            "text/plain": [
              "1183.641165413104"
            ]
          },
          "metadata": {
            "tags": []
          },
          "execution_count": 55
        }
      ]
    },
    {
      "cell_type": "code",
      "metadata": {
        "id": "mRDDtsoVmxWy",
        "colab": {
          "base_uri": "https://localhost:8080/"
        },
        "outputId": "1f376b56-17e7-4142-b029-745550688235"
      },
      "source": [
        "b"
      ],
      "execution_count": null,
      "outputs": [
        {
          "output_type": "execute_result",
          "data": {
            "text/plain": [
              "array([-87.96702512,  23.19382765,  69.98805505,  72.36874367,\n",
              "        13.6158932 , -37.05667818])"
            ]
          },
          "metadata": {
            "tags": []
          },
          "execution_count": 56
        }
      ]
    },
    {
      "cell_type": "code",
      "metadata": {
        "id": "Ea9A4JHGn-Cs",
        "colab": {
          "base_uri": "https://localhost:8080/"
        },
        "outputId": "adf84f98-3622-4f05-a1c8-5cd0e994094b"
      },
      "source": [
        "# mactching b values with their respective features\n",
        "dict(zip(X_small.columns, b))"
      ],
      "execution_count": null,
      "outputs": [
        {
          "output_type": "execute_result",
          "data": {
            "text/plain": [
              "{'PctFam2Par': 23.19382764750879,\n",
              " 'PctKids2Par': -37.056678176659304,\n",
              " 'PctKidsBornNeverMar': 72.36874366812269,\n",
              " 'PctLargHouseFam': 69.98805504674917,\n",
              " 'PctLargHouseOccup': -87.96702511995696,\n",
              " 'PctPersDenseHous': 13.615893203735297}"
            ]
          },
          "metadata": {
            "tags": []
          },
          "execution_count": 57
        }
      ]
    },
    {
      "cell_type": "code",
      "metadata": {
        "id": "eFrQ9P1lmVXP"
      },
      "source": [
        "# calculate # a + x_0*b_0 + ... + x_k*b_k\n"
      ],
      "execution_count": null,
      "outputs": []
    },
    {
      "cell_type": "code",
      "metadata": {
        "id": "FFKOrHGcmZYk",
        "colab": {
          "base_uri": "https://localhost:8080/"
        },
        "outputId": "9f708e00-e5c3-4c5d-aafa-f09cab4fea04"
      },
      "source": [
        "# get column 0 from X_crime and call it x_0:\n",
        "X_small.values"
      ],
      "execution_count": null,
      "outputs": [
        {
          "output_type": "execute_result",
          "data": {
            "text/plain": [
              "array([[ 4.17, 91.43,  4.81,  0.36,  0.39, 90.17],\n",
              "       [ 3.34, 86.91,  4.25,  0.24,  1.01, 85.33],\n",
              "       [ 2.05, 78.54,  2.97,  0.88,  2.03, 78.85],\n",
              "       ...,\n",
              "       [ 3.5 , 76.77,  5.1 ,  1.6 ,  4.39, 74.2 ],\n",
              "       [ 7.1 , 67.76,  9.83,  2.35,  9.64, 63.45],\n",
              "       [ 5.7 , 62.64,  8.58,  4.85, 11.31, 60.23]])"
            ]
          },
          "metadata": {
            "tags": []
          },
          "execution_count": 59
        }
      ]
    },
    {
      "cell_type": "code",
      "metadata": {
        "id": "O809N3nKmzWj",
        "colab": {
          "base_uri": "https://localhost:8080/"
        },
        "outputId": "89f5821f-3bee-410f-a95b-5927b49cfc00"
      },
      "source": [
        "X_small.values[: , 0]"
      ],
      "execution_count": null,
      "outputs": [
        {
          "output_type": "execute_result",
          "data": {
            "text/plain": [
              "array([4.17, 3.34, 2.05, ..., 3.5 , 7.1 , 5.7 ])"
            ]
          },
          "metadata": {
            "tags": []
          },
          "execution_count": 60
        }
      ]
    },
    {
      "cell_type": "code",
      "metadata": {
        "id": "V9aIEvHem7ZH",
        "colab": {
          "base_uri": "https://localhost:8080/"
        },
        "outputId": "de775a7d-eef4-4d00-d90f-caadec5cce0a"
      },
      "source": [
        "x_0 = X_small.values[: , 0]\n",
        "x_0"
      ],
      "execution_count": null,
      "outputs": [
        {
          "output_type": "execute_result",
          "data": {
            "text/plain": [
              "array([4.17, 3.34, 2.05, ..., 3.5 , 7.1 , 5.7 ])"
            ]
          },
          "metadata": {
            "tags": []
          },
          "execution_count": 61
        }
      ]
    },
    {
      "cell_type": "code",
      "metadata": {
        "id": "mv7ECZSmm7FZ",
        "colab": {
          "base_uri": "https://localhost:8080/"
        },
        "outputId": "ff269fa7-b048-4989-bcfe-683334dca5f0"
      },
      "source": [
        "# compare ridge.predict(X_small) with what we just calculated\n",
        "x_0*ridge_model.coef_[0]"
      ],
      "execution_count": null,
      "outputs": [
        {
          "output_type": "execute_result",
          "data": {
            "text/plain": [
              "array([-366.82249475, -293.8098639 , -180.3324015 , ..., -307.88458792,\n",
              "       -624.56587835, -501.41204318])"
            ]
          },
          "metadata": {
            "tags": []
          },
          "execution_count": 62
        }
      ]
    },
    {
      "cell_type": "code",
      "metadata": {
        "id": "BEAgCu-enkpQ"
      },
      "source": [
        "x_1 = X_small.values[: , 1]\n",
        "x_2 = X_small.values[: , 2]\n",
        "x_3 = X_small.values[: , 3]\n",
        "x_4 = X_small.values[: , 4]\n",
        "x_5 = X_small.values[: , 5]"
      ],
      "execution_count": null,
      "outputs": []
    },
    {
      "cell_type": "code",
      "metadata": {
        "id": "S2U8UF_Xna1Y",
        "colab": {
          "base_uri": "https://localhost:8080/"
        },
        "outputId": "35f6cc4a-6d23-4474-f012-e20e460dc65a"
      },
      "source": [
        "a + x_0*b[0] + x_1*b[1] + x_2*b[2] + x_3*b[3] + x_4*b[4] + x_5*b[5]"
      ],
      "execution_count": null,
      "outputs": [
        {
          "output_type": "execute_result",
          "data": {
            "text/plain": [
              "array([ -35.96484787,   72.13029811,  202.22219424, ...,  439.24404706,\n",
              "        768.74915736, 1008.64843071])"
            ]
          },
          "metadata": {
            "tags": []
          },
          "execution_count": 64
        }
      ]
    },
    {
      "cell_type": "code",
      "metadata": {
        "id": "vy3KGRDio5Yt",
        "colab": {
          "base_uri": "https://localhost:8080/"
        },
        "outputId": "d5a862be-ffbd-435b-87ae-04767cebdd86"
      },
      "source": [
        "ridge_model.predict(X_small)"
      ],
      "execution_count": null,
      "outputs": [
        {
          "output_type": "execute_result",
          "data": {
            "text/plain": [
              "array([ -35.96484787,   72.13029811,  202.22219424, ...,  439.24404706,\n",
              "        768.74915736, 1008.64843071])"
            ]
          },
          "metadata": {
            "tags": []
          },
          "execution_count": 65
        }
      ]
    },
    {
      "cell_type": "markdown",
      "metadata": {
        "id": "Q6zhf5ACpEJ_"
      },
      "source": [
        "in matrix algebra a term:\n",
        "- is an intercept\n",
        "- b = [b0, b1, ...] is a vector of coefficients\n",
        "- x = [X_0, ...., X_5] contains all features of the data X_small"
      ]
    },
    {
      "cell_type": "code",
      "metadata": {
        "id": "Ib3jLDDWpkAQ",
        "colab": {
          "base_uri": "https://localhost:8080/"
        },
        "outputId": "1b1d93e8-52b5-454e-fd5d-b383948abf71"
      },
      "source": [
        "a + X_small@b.T"
      ],
      "execution_count": null,
      "outputs": [
        {
          "output_type": "execute_result",
          "data": {
            "text/plain": [
              "0        -35.964848\n",
              "1         72.130298\n",
              "2        202.222194\n",
              "3        701.884239\n",
              "5        455.758227\n",
              "           ...     \n",
              "2210     964.205797\n",
              "2211     740.591107\n",
              "2212     439.244047\n",
              "2213     768.749157\n",
              "2214    1008.648431\n",
              "Length: 1994, dtype: float64"
            ]
          },
          "metadata": {
            "tags": []
          },
          "execution_count": 66
        }
      ]
    },
    {
      "cell_type": "code",
      "metadata": {
        "id": "atxutXW4nqFL",
        "colab": {
          "base_uri": "https://localhost:8080/",
          "height": 235
        },
        "outputId": "3a8e28a7-7e82-4940-90de-7c4209aa5e56"
      },
      "source": [
        "# we put them together in a dataframe \n",
        "pd.DataFrame({'column': X_small.columns, 'coefficient': ridge_model.coef_})"
      ],
      "execution_count": null,
      "outputs": [
        {
          "output_type": "execute_result",
          "data": {
            "text/html": [
              "<div>\n",
              "<style scoped>\n",
              "    .dataframe tbody tr th:only-of-type {\n",
              "        vertical-align: middle;\n",
              "    }\n",
              "\n",
              "    .dataframe tbody tr th {\n",
              "        vertical-align: top;\n",
              "    }\n",
              "\n",
              "    .dataframe thead th {\n",
              "        text-align: right;\n",
              "    }\n",
              "</style>\n",
              "<table border=\"1\" class=\"dataframe\">\n",
              "  <thead>\n",
              "    <tr style=\"text-align: right;\">\n",
              "      <th></th>\n",
              "      <th>column</th>\n",
              "      <th>coefficient</th>\n",
              "    </tr>\n",
              "  </thead>\n",
              "  <tbody>\n",
              "    <tr>\n",
              "      <th>0</th>\n",
              "      <td>PctLargHouseOccup</td>\n",
              "      <td>-87.967025</td>\n",
              "    </tr>\n",
              "    <tr>\n",
              "      <th>1</th>\n",
              "      <td>PctFam2Par</td>\n",
              "      <td>23.193828</td>\n",
              "    </tr>\n",
              "    <tr>\n",
              "      <th>2</th>\n",
              "      <td>PctLargHouseFam</td>\n",
              "      <td>69.988055</td>\n",
              "    </tr>\n",
              "    <tr>\n",
              "      <th>3</th>\n",
              "      <td>PctKidsBornNeverMar</td>\n",
              "      <td>72.368744</td>\n",
              "    </tr>\n",
              "    <tr>\n",
              "      <th>4</th>\n",
              "      <td>PctPersDenseHous</td>\n",
              "      <td>13.615893</td>\n",
              "    </tr>\n",
              "    <tr>\n",
              "      <th>5</th>\n",
              "      <td>PctKids2Par</td>\n",
              "      <td>-37.056678</td>\n",
              "    </tr>\n",
              "  </tbody>\n",
              "</table>\n",
              "</div>"
            ],
            "text/plain": [
              "                column  coefficient\n",
              "0    PctLargHouseOccup   -87.967025\n",
              "1           PctFam2Par    23.193828\n",
              "2      PctLargHouseFam    69.988055\n",
              "3  PctKidsBornNeverMar    72.368744\n",
              "4     PctPersDenseHous    13.615893\n",
              "5          PctKids2Par   -37.056678"
            ]
          },
          "metadata": {
            "tags": []
          },
          "execution_count": 67
        }
      ]
    },
    {
      "cell_type": "markdown",
      "metadata": {
        "id": "kag7uGYrrKtO"
      },
      "source": [
        "### How does linear regression find a and b in a+X*b?"
      ]
    },
    {
      "cell_type": "code",
      "metadata": {
        "id": "yHtOslZF_jzu"
      },
      "source": [
        "# extract only feature column #3 from X_small:\n",
        "X_3 = X_small.values[:,3].reshape(-1,1)"
      ],
      "execution_count": null,
      "outputs": []
    },
    {
      "cell_type": "code",
      "metadata": {
        "id": "_MbAKpgOogZF",
        "colab": {
          "base_uri": "https://localhost:8080/"
        },
        "outputId": "ac25ea32-7b13-4859-c455-d0b83b7ee73e"
      },
      "source": [
        "# regress Y_crime on X_3\n",
        "from sklearn.linear_model import LinearRegression\n",
        "\n",
        "lin_reg = LinearRegression()\n",
        "lin_reg.fit(X_small.values[:,3].reshape(-1,1), Y_crime)\n",
        "print(lin_reg.intercept_)\n",
        "print(lin_reg.coef_)\n"
      ],
      "execution_count": null,
      "outputs": [
        {
          "output_type": "stream",
          "text": [
            "125.61401016913209\n",
            "[147.61254979]\n"
          ],
          "name": "stdout"
        }
      ]
    },
    {
      "cell_type": "code",
      "metadata": {
        "id": "ImARGYFPqPwO"
      },
      "source": [
        "a = lin_reg.intercept_\n",
        "b = lin_reg.coef_"
      ],
      "execution_count": null,
      "outputs": []
    },
    {
      "cell_type": "code",
      "metadata": {
        "id": "Eqn3_BeP_U4f",
        "colab": {
          "base_uri": "https://localhost:8080/"
        },
        "outputId": "251028af-297d-4248-cd07-8633b972dc40"
      },
      "source": [
        "b.T"
      ],
      "execution_count": null,
      "outputs": [
        {
          "output_type": "execute_result",
          "data": {
            "text/plain": [
              "array([147.61254979])"
            ]
          },
          "metadata": {
            "tags": []
          },
          "execution_count": 71
        }
      ]
    },
    {
      "cell_type": "markdown",
      "metadata": {
        "id": "JqOrR-ZT_2JW"
      },
      "source": [
        "What do the intercept and coefficient we estimated mean? Remember the general linear regression formula:\n",
        "$ \\hat{y} = a+ x*b$"
      ]
    },
    {
      "cell_type": "code",
      "metadata": {
        "id": "zR5XiV7PqRCL"
      },
      "source": [
        "a = lin_reg.intercept_\n",
        "b = lin_reg.coef_"
      ],
      "execution_count": null,
      "outputs": []
    },
    {
      "cell_type": "code",
      "metadata": {
        "id": "wrQxk21JqXAV",
        "colab": {
          "base_uri": "https://localhost:8080/"
        },
        "outputId": "a13f0cf6-ea82-478c-f895-ed88848eb0ea"
      },
      "source": [
        "resid = Y_crime - a - X_3@b.T\n",
        "resid"
      ],
      "execution_count": null,
      "outputs": [
        {
          "output_type": "execute_result",
          "data": {
            "text/plain": [
              "0      -137.734528\n",
              "1       -33.481022\n",
              "2       -36.923054\n",
              "3      -385.806201\n",
              "5        84.108161\n",
              "           ...    \n",
              "2210   -242.644359\n",
              "2211   -441.399409\n",
              "2212     -7.964090\n",
              "2213    218.666498\n",
              "2214     77.355123\n",
              "Name: ViolentCrimesPerPop, Length: 1994, dtype: float64"
            ]
          },
          "metadata": {
            "tags": []
          },
          "execution_count": 73
        }
      ]
    },
    {
      "cell_type": "code",
      "metadata": {
        "id": "yqh0Xiurqxfu",
        "colab": {
          "base_uri": "https://localhost:8080/"
        },
        "outputId": "00135dff-1aec-4dc8-ec44-92ebfa86bf6c"
      },
      "source": [
        "mse = np.mean(resid**2)\n",
        "mse"
      ],
      "execution_count": null,
      "outputs": [
        {
          "output_type": "execute_result",
          "data": {
            "text/plain": [
              "171970.36860935422"
            ]
          },
          "metadata": {
            "tags": []
          },
          "execution_count": 74
        }
      ]
    },
    {
      "cell_type": "code",
      "metadata": {
        "id": "3rSsdwFPrWSG"
      },
      "source": [
        "# create a simple function to calculate MSE repeatedly\n",
        "def mse_score(X, Y, a,b):\n",
        "  resid = Y - a - (X)@np.array([b]).T\n",
        "  mse = np.mean(resid**2)\n",
        "  return mse\n"
      ],
      "execution_count": null,
      "outputs": []
    },
    {
      "cell_type": "code",
      "metadata": {
        "id": "GAVU5qrLsR7v",
        "colab": {
          "base_uri": "https://localhost:8080/"
        },
        "outputId": "5628b470-8a6a-4831-f3d6-ececf94ba631"
      },
      "source": [
        "mse_score(X=X_3,\n",
        "          Y=Y_crime, \n",
        "          a = lin_reg.intercept_, \n",
        "          b=lin_reg.coef_[0])"
      ],
      "execution_count": null,
      "outputs": [
        {
          "output_type": "execute_result",
          "data": {
            "text/plain": [
              "171970.36860935422"
            ]
          },
          "metadata": {
            "tags": []
          },
          "execution_count": 76
        }
      ]
    },
    {
      "cell_type": "code",
      "metadata": {
        "id": "I9TqLaUetuwe"
      },
      "source": [
        "import matplotlib.pyplot as plt\n",
        "import numpy as np"
      ],
      "execution_count": null,
      "outputs": []
    },
    {
      "cell_type": "code",
      "metadata": {
        "id": "5y174BNcs9HS",
        "colab": {
          "base_uri": "https://localhost:8080/",
          "height": 265
        },
        "outputId": "ca28a204-ff7d-4570-8d43-2510842cb79c"
      },
      "source": [
        "bs = [lin_reg.coef_[0], 135, 139, 147, 149, 160]\n",
        "\n",
        "mse_score(X=X_3,\n",
        "          Y=Y_crime, \n",
        "          a = lin_reg.intercept_, \n",
        "          b=11000)\n",
        "\n",
        "mse_b = [mse_score(X=X_3, Y=Y_crime,  a = lin_reg.intercept_,  b=b) for b in bs]\n",
        "\n",
        "\n",
        "\n",
        "plt.scatter(bs, mse_b, marker='o')\n",
        "for b in bs:\n",
        "  plt.annotate(mse_score(X=X_3, Y=Y_crime,  a = lin_reg.intercept_,  b=b),\n",
        "               (b,\n",
        "                mse_score(X=X_3, Y=Y_crime,  a = lin_reg.intercept_,  b=b)))\n",
        "# Show the boundary between the regions:\n",
        "\n",
        "plt.show()"
      ],
      "execution_count": null,
      "outputs": [
        {
          "output_type": "display_data",
          "data": {
            "image/png": "[encoded data removed]",
            "text/plain": [
              "<Figure size 432x288 with 1 Axes>"
            ]
          },
          "metadata": {
            "tags": [],
            "needs_background": "light"
          }
        }
      ]
    },
    {
      "cell_type": "markdown",
      "metadata": {
        "id": "HucLf257VujB"
      },
      "source": [
        "## Taking stock: The alogrithm of linear regression\n",
        "1. The set up:\n",
        " we have column feature, called X_3, and an outcome variable to predict, call Y_crime.\n",
        "2. Assumption of the model: \n",
        "our prediction would a linear finction of X: $$\\hat{y} = a + X*b$$.\n",
        "3. The loss function and the model's objective: \n",
        "MSE as calculated by the prediction errors from $\\hat{y}$.\n",
        "  - **objective** : find a set of a and b that would minimize MSE\n",
        "4. How to **estimate** the model coefficients: \n",
        "Use an algorithm called \"gradient descent\" to find a pair of a and b that would minimize MSE\n",
        "\n"
      ]
    },
    {
      "cell_type": "markdown",
      "metadata": {
        "id": "Iid2-wWwV2WA"
      },
      "source": [
        "## Linear algebra exercise"
      ]
    },
    {
      "cell_type": "code",
      "metadata": {
        "id": "QJ3VeQZRXI-Q"
      },
      "source": [
        "v1 = np.array([1,3,5,6])\n",
        "v2 = np.array([2,4,7,9])"
      ],
      "execution_count": null,
      "outputs": []
    },
    {
      "cell_type": "markdown",
      "metadata": {
        "id": "z6WSBKvnXV68"
      },
      "source": [
        "1. Create vector v3 with the same number of elements as v1 and v2 (any value you like)"
      ]
    },
    {
      "cell_type": "code",
      "metadata": {
        "id": "-nLmrQrFX_dE"
      },
      "source": [
        "v3 = np.array([10,13,16,19])"
      ],
      "execution_count": null,
      "outputs": []
    },
    {
      "cell_type": "markdown",
      "metadata": {
        "id": "N8QTwzBBYAhl"
      },
      "source": [
        "2. Add v1 and v2"
      ]
    },
    {
      "cell_type": "code",
      "metadata": {
        "colab": {
          "base_uri": "https://localhost:8080/"
        },
        "id": "DfYqAi-Ovulk",
        "outputId": "3862758f-eec2-4b04-eea1-94785d459a12"
      },
      "source": [
        "v1 + v2"
      ],
      "execution_count": null,
      "outputs": [
        {
          "output_type": "execute_result",
          "data": {
            "text/plain": [
              "array([ 3,  7, 12, 15])"
            ]
          },
          "metadata": {
            "tags": []
          },
          "execution_count": 81
        }
      ]
    },
    {
      "cell_type": "markdown",
      "metadata": {
        "id": "Ko8-xtSbYD4G"
      },
      "source": [
        "3. Subtract v2 from v3"
      ]
    },
    {
      "cell_type": "code",
      "metadata": {
        "colab": {
          "base_uri": "https://localhost:8080/"
        },
        "id": "o_UYfF5Mvzd2",
        "outputId": "2d32e199-f583-47d3-ddfa-95bee407624c"
      },
      "source": [
        "v3 - v2"
      ],
      "execution_count": null,
      "outputs": [
        {
          "output_type": "execute_result",
          "data": {
            "text/plain": [
              "array([ 8,  9,  9, 10])"
            ]
          },
          "metadata": {
            "tags": []
          },
          "execution_count": 82
        }
      ]
    },
    {
      "cell_type": "markdown",
      "metadata": {
        "id": "vOUJCt3vYG7J"
      },
      "source": [
        "4. Try this multiplication and look up what we do when we multiply 2 vectors"
      ]
    },
    {
      "cell_type": "code",
      "metadata": {
        "colab": {
          "base_uri": "https://localhost:8080/"
        },
        "id": "m9wJB0vvYLXl",
        "outputId": "17d8530d-9eb9-4e0b-f6c1-c3719b9d1444"
      },
      "source": [
        "v1@v2"
      ],
      "execution_count": null,
      "outputs": [
        {
          "output_type": "execute_result",
          "data": {
            "text/plain": [
              "103"
            ]
          },
          "metadata": {
            "tags": []
          },
          "execution_count": 83
        }
      ]
    },
    {
      "cell_type": "code",
      "metadata": {
        "colab": {
          "base_uri": "https://localhost:8080/"
        },
        "id": "8-DPW-ggwYrx",
        "outputId": "153b3d94-e55e-440f-ffa1-76f98e8894cf"
      },
      "source": [
        "v1@v3"
      ],
      "execution_count": null,
      "outputs": [
        {
          "output_type": "execute_result",
          "data": {
            "text/plain": [
              "243"
            ]
          },
          "metadata": {
            "tags": []
          },
          "execution_count": 84
        }
      ]
    },
    {
      "cell_type": "markdown",
      "metadata": {
        "id": "YiNoZD2vYPnW"
      },
      "source": [
        "5. Try `v1+5` and `v2-10`\n",
        "\n",
        "\n",
        "\n"
      ]
    },
    {
      "cell_type": "code",
      "metadata": {
        "colab": {
          "base_uri": "https://localhost:8080/"
        },
        "id": "O99nkC4UwPNU",
        "outputId": "3e406c86-21d1-4cb8-9f6c-a2c06be2c5c7"
      },
      "source": [
        "v1+5"
      ],
      "execution_count": null,
      "outputs": [
        {
          "output_type": "execute_result",
          "data": {
            "text/plain": [
              "array([ 6,  8, 10, 11])"
            ]
          },
          "metadata": {
            "tags": []
          },
          "execution_count": 85
        }
      ]
    },
    {
      "cell_type": "code",
      "metadata": {
        "colab": {
          "base_uri": "https://localhost:8080/"
        },
        "id": "CHk7QnzGwRu_",
        "outputId": "0ded7b2e-c6d9-4be9-c8b3-526634a15f66"
      },
      "source": [
        "v2-10"
      ],
      "execution_count": null,
      "outputs": [
        {
          "output_type": "execute_result",
          "data": {
            "text/plain": [
              "array([-8, -6, -3, -1])"
            ]
          },
          "metadata": {
            "tags": []
          },
          "execution_count": 86
        }
      ]
    },
    {
      "cell_type": "markdown",
      "metadata": {
        "id": "Tl0WC74vY6NQ"
      },
      "source": [
        "6. Create a new matrix. Tutorial https://numpy.org/doc/stable/reference/generated/numpy.matrix.html"
      ]
    },
    {
      "cell_type": "code",
      "metadata": {
        "colab": {
          "base_uri": "https://localhost:8080/"
        },
        "id": "u2Sy3Ao4Y8rN",
        "outputId": "d02ac8b4-01d5-4e3d-cdcb-3143730e36d8"
      },
      "source": [
        "m1 = np.matrix([[1, 3, 5, 7],\n",
        "               [2, 4, 6 ,8], \n",
        "               [3, 6, 9, 0]])\n",
        "m1"
      ],
      "execution_count": null,
      "outputs": [
        {
          "output_type": "execute_result",
          "data": {
            "text/plain": [
              "matrix([[1, 3, 5, 7],\n",
              "        [2, 4, 6, 8],\n",
              "        [3, 6, 9, 0]])"
            ]
          },
          "metadata": {
            "tags": []
          },
          "execution_count": 87
        }
      ]
    },
    {
      "cell_type": "markdown",
      "metadata": {
        "id": "bVY-pvaGZUvK"
      },
      "source": [
        "7. Create a matrix `m2` of 4 row * 2 columns of any values you want using the syntax above."
      ]
    },
    {
      "cell_type": "code",
      "metadata": {
        "colab": {
          "base_uri": "https://localhost:8080/"
        },
        "id": "4xWeabmRycd8",
        "outputId": "cc7ac903-2656-4689-9a7b-fee234693fc1"
      },
      "source": [
        "m2 = np.matrix([[2, 3],\n",
        "               [5 ,7], \n",
        "               [10, 16],\n",
        "                [1, 5]])\n",
        "m2"
      ],
      "execution_count": null,
      "outputs": [
        {
          "output_type": "execute_result",
          "data": {
            "text/plain": [
              "matrix([[ 2,  3],\n",
              "        [ 5,  7],\n",
              "        [10, 16],\n",
              "        [ 1,  5]])"
            ]
          },
          "metadata": {
            "tags": []
          },
          "execution_count": 88
        }
      ]
    },
    {
      "cell_type": "markdown",
      "metadata": {
        "id": "hCYZlr91ZzCk"
      },
      "source": [
        "8. Extract the 2nd row of m1\n",
        "9. Extract the 1rd colulmn of m2"
      ]
    },
    {
      "cell_type": "code",
      "metadata": {
        "colab": {
          "base_uri": "https://localhost:8080/"
        },
        "id": "YwBt4t4RaHYH",
        "outputId": "1ad31fd3-2dac-4875-dc14-6a9a8fbddb4d"
      },
      "source": [
        "m1[1,:]"
      ],
      "execution_count": null,
      "outputs": [
        {
          "output_type": "execute_result",
          "data": {
            "text/plain": [
              "matrix([[2, 4, 6, 8]])"
            ]
          },
          "metadata": {
            "tags": []
          },
          "execution_count": 89
        }
      ]
    },
    {
      "cell_type": "code",
      "metadata": {
        "id": "_tV-iunAaJuE",
        "colab": {
          "base_uri": "https://localhost:8080/"
        },
        "outputId": "e46f454a-13f6-4e0d-c190-b3c2413f037d"
      },
      "source": [
        "m2[:,0]"
      ],
      "execution_count": null,
      "outputs": [
        {
          "output_type": "execute_result",
          "data": {
            "text/plain": [
              "matrix([[ 2],\n",
              "        [ 5],\n",
              "        [10],\n",
              "        [ 1]])"
            ]
          },
          "metadata": {
            "tags": []
          },
          "execution_count": 90
        }
      ]
    },
    {
      "cell_type": "markdown",
      "metadata": {
        "id": "0mqgZFRsaA2a"
      },
      "source": [
        "10. Extract the element in 3rd row and 1st column of m1"
      ]
    },
    {
      "cell_type": "code",
      "metadata": {
        "colab": {
          "base_uri": "https://localhost:8080/"
        },
        "id": "It-ktadNy2M2",
        "outputId": "4c0b268e-0a90-4254-d9b9-e26e89c6f102"
      },
      "source": [
        "m1[2,0]"
      ],
      "execution_count": null,
      "outputs": [
        {
          "output_type": "execute_result",
          "data": {
            "text/plain": [
              "3"
            ]
          },
          "metadata": {
            "tags": []
          },
          "execution_count": 91
        }
      ]
    },
    {
      "cell_type": "markdown",
      "metadata": {
        "id": "nUKAyfi7aZdC"
      },
      "source": [
        "11. Multiply m1 with number 10"
      ]
    },
    {
      "cell_type": "code",
      "metadata": {
        "colab": {
          "base_uri": "https://localhost:8080/"
        },
        "id": "paAl0jdtzEcy",
        "outputId": "134d7631-b968-40ee-f55d-7ceb93368fdd"
      },
      "source": [
        "m1*10"
      ],
      "execution_count": null,
      "outputs": [
        {
          "output_type": "execute_result",
          "data": {
            "text/plain": [
              "matrix([[10, 30, 50, 70],\n",
              "        [20, 40, 60, 80],\n",
              "        [30, 60, 90,  0]])"
            ]
          },
          "metadata": {
            "tags": []
          },
          "execution_count": 92
        }
      ]
    },
    {
      "cell_type": "markdown",
      "metadata": {
        "id": "P0pcZD7Haep1"
      },
      "source": [
        "12. Divide m2 by number 2"
      ]
    },
    {
      "cell_type": "code",
      "metadata": {
        "colab": {
          "base_uri": "https://localhost:8080/"
        },
        "id": "hv8stfe_zJVi",
        "outputId": "94d9c0f0-a5e9-4232-b31f-27efc2250d4c"
      },
      "source": [
        "m2/2"
      ],
      "execution_count": null,
      "outputs": [
        {
          "output_type": "execute_result",
          "data": {
            "text/plain": [
              "matrix([[1. , 1.5],\n",
              "        [2.5, 3.5],\n",
              "        [5. , 8. ],\n",
              "        [0.5, 2.5]])"
            ]
          },
          "metadata": {
            "tags": []
          },
          "execution_count": 93
        }
      ]
    },
    {
      "cell_type": "markdown",
      "metadata": {
        "id": "ijPi6N8Uao99"
      },
      "source": [
        "14. Use the `@` operation to multiply m1 with the first column of m2\n",
        "\n",
        "\n"
      ]
    },
    {
      "cell_type": "code",
      "metadata": {
        "colab": {
          "base_uri": "https://localhost:8080/"
        },
        "id": "ERNNq1l1zSoI",
        "outputId": "28d7d119-e4d3-4d40-e1d4-da4e62797b90"
      },
      "source": [
        "m1@m2[:,0]"
      ],
      "execution_count": null,
      "outputs": [
        {
          "output_type": "execute_result",
          "data": {
            "text/plain": [
              "matrix([[ 74],\n",
              "        [ 92],\n",
              "        [126]])"
            ]
          },
          "metadata": {
            "tags": []
          },
          "execution_count": 94
        }
      ]
    },
    {
      "cell_type": "code",
      "metadata": {
        "colab": {
          "base_uri": "https://localhost:8080/"
        },
        "id": "SoKFvGID2WMX",
        "outputId": "ce5a8018-9120-4f24-837f-6507bb27eaa9"
      },
      "source": [
        "m1[2,:]@m2[:,0]"
      ],
      "execution_count": null,
      "outputs": [
        {
          "output_type": "execute_result",
          "data": {
            "text/plain": [
              "matrix([[126]])"
            ]
          },
          "metadata": {
            "tags": []
          },
          "execution_count": 95
        }
      ]
    },
    {
      "cell_type": "markdown",
      "metadata": {
        "id": "jy2mqDJubHFx"
      },
      "source": [
        "15. Use the `@` operation to multiply m1 with the first row of m2. It gives you an error. Why?"
      ]
    },
    {
      "cell_type": "code",
      "metadata": {
        "colab": {
          "base_uri": "https://localhost:8080/",
          "height": 180
        },
        "id": "WzWRdhME0ma3",
        "outputId": "4dc734ce-7225-4e71-99bc-113795660329"
      },
      "source": [
        "m1@m2[0,:]\n",
        "# the dimensions do not match up and cannot be multiplied because there are different elements"
      ],
      "execution_count": null,
      "outputs": [
        {
          "output_type": "error",
          "ename": "ValueError",
          "evalue": "ignored",
          "traceback": [
            "\u001b[0;31m---------------------------------------------------------------------------\u001b[0m",
            "\u001b[0;31mValueError\u001b[0m                                Traceback (most recent call last)",
            "\u001b[0;32m<ipython-input-96-5bda82222007>\u001b[0m in \u001b[0;36m<module>\u001b[0;34m()\u001b[0m\n\u001b[0;32m----> 1\u001b[0;31m \u001b[0mm1\u001b[0m\u001b[0;34m@\u001b[0m\u001b[0mm2\u001b[0m\u001b[0;34m[\u001b[0m\u001b[0;36m0\u001b[0m\u001b[0;34m,\u001b[0m\u001b[0;34m:\u001b[0m\u001b[0;34m]\u001b[0m\u001b[0;34m\u001b[0m\u001b[0;34m\u001b[0m\u001b[0m\n\u001b[0m\u001b[1;32m      2\u001b[0m \u001b[0;31m# the dimensions do not match up and cannot be multiplied because there are different elements\u001b[0m\u001b[0;34m\u001b[0m\u001b[0;34m\u001b[0m\u001b[0;34m\u001b[0m\u001b[0m\n",
            "\u001b[0;31mValueError\u001b[0m: matmul: Input operand 1 has a mismatch in its core dimension 0, with gufunc signature (n?,k),(k,m?)->(n?,m?) (size 1 is different from 4)"
          ]
        }
      ]
    },
    {
      "cell_type": "markdown",
      "metadata": {
        "id": "ALHZQX7FbSSr"
      },
      "source": [
        "16. Use the `@` operation to multiply m1 with m2"
      ]
    },
    {
      "cell_type": "code",
      "metadata": {
        "colab": {
          "base_uri": "https://localhost:8080/"
        },
        "id": "4VDzK7Y-08Hl",
        "outputId": "000d1dd7-c44b-4fb0-82c8-9945be26c11c"
      },
      "source": [
        "m1@m2\n",
        "# ustack m1 to its seperate rows\n",
        "# unstack m2 to its seperate columns\n",
        "\n",
        "# perform @ for every row of m1 with every column of m2"
      ],
      "execution_count": null,
      "outputs": [
        {
          "output_type": "execute_result",
          "data": {
            "text/plain": [
              "matrix([[ 74, 139],\n",
              "        [ 92, 170],\n",
              "        [126, 195]])"
            ]
          },
          "metadata": {
            "tags": []
          },
          "execution_count": 97
        }
      ]
    },
    {
      "cell_type": "code",
      "metadata": {
        "colab": {
          "base_uri": "https://localhost:8080/"
        },
        "id": "QGSTa7W24Px2",
        "outputId": "a7e78c0e-34a8-48ba-9c2e-e5e819473436"
      },
      "source": [
        "m1[1,:]@m2[:,1]"
      ],
      "execution_count": null,
      "outputs": [
        {
          "output_type": "execute_result",
          "data": {
            "text/plain": [
              "matrix([[170]])"
            ]
          },
          "metadata": {
            "tags": []
          },
          "execution_count": 98
        }
      ]
    },
    {
      "cell_type": "markdown",
      "metadata": {
        "id": "-CgP0LHGbd_3"
      },
      "source": [
        "17. Use the `@` operation to multiply m1 with m1. Error. Why?"
      ]
    },
    {
      "cell_type": "code",
      "metadata": {
        "colab": {
          "base_uri": "https://localhost:8080/",
          "height": 180
        },
        "id": "0ZQVeWi90-ms",
        "outputId": "92426768-df64-4a92-f401-f7f088bb7d21"
      },
      "source": [
        "m1@m1\n",
        "# you cannot multiple the same matrix becasue it has different columns and rows if you were going to multiply"
      ],
      "execution_count": null,
      "outputs": [
        {
          "output_type": "error",
          "ename": "ValueError",
          "evalue": "ignored",
          "traceback": [
            "\u001b[0;31m---------------------------------------------------------------------------\u001b[0m",
            "\u001b[0;31mValueError\u001b[0m                                Traceback (most recent call last)",
            "\u001b[0;32m<ipython-input-100-4bf1dcda5cb5>\u001b[0m in \u001b[0;36m<module>\u001b[0;34m()\u001b[0m\n\u001b[0;32m----> 1\u001b[0;31m \u001b[0mm1\u001b[0m\u001b[0;34m@\u001b[0m\u001b[0mm1\u001b[0m\u001b[0;34m\u001b[0m\u001b[0;34m\u001b[0m\u001b[0m\n\u001b[0m\u001b[1;32m      2\u001b[0m \u001b[0;31m# you cannot multiple the same matrix becasue it has different columns and rows if you were going to multiply\u001b[0m\u001b[0;34m\u001b[0m\u001b[0;34m\u001b[0m\u001b[0;34m\u001b[0m\u001b[0m\n",
            "\u001b[0;31mValueError\u001b[0m: matmul: Input operand 1 has a mismatch in its core dimension 0, with gufunc signature (n?,k),(k,m?)->(n?,m?) (size 3 is different from 4)"
          ]
        }
      ]
    },
    {
      "cell_type": "markdown",
      "metadata": {
        "id": "e88RbUfxblJ7"
      },
      "source": [
        "18. Try `m1.T` and try `m1@m1.T`. Explain why this works but not 17."
      ]
    },
    {
      "cell_type": "code",
      "metadata": {
        "colab": {
          "base_uri": "https://localhost:8080/"
        },
        "id": "GYrIb1vY1Iwk",
        "outputId": "ebf62dc4-8261-4f31-c9fe-4b43197ab43d"
      },
      "source": [
        "m1.T\n",
        "# transpose of m1"
      ],
      "execution_count": null,
      "outputs": [
        {
          "output_type": "execute_result",
          "data": {
            "text/plain": [
              "matrix([[1, 2, 3],\n",
              "        [3, 4, 6],\n",
              "        [5, 6, 9],\n",
              "        [7, 8, 0]])"
            ]
          },
          "metadata": {
            "tags": []
          },
          "execution_count": 101
        }
      ]
    },
    {
      "cell_type": "code",
      "metadata": {
        "colab": {
          "base_uri": "https://localhost:8080/"
        },
        "id": "NkdL2elI1L9h",
        "outputId": "a0f4c743-f5e3-4a17-817a-b43acc30962d"
      },
      "source": [
        "m1@m1.T\n",
        "# this works because there are two possible outcomes now"
      ],
      "execution_count": null,
      "outputs": [
        {
          "output_type": "execute_result",
          "data": {
            "text/plain": [
              "matrix([[ 84, 100,  66],\n",
              "        [100, 120,  84],\n",
              "        [ 66,  84, 126]])"
            ]
          },
          "metadata": {
            "tags": []
          },
          "execution_count": 102
        }
      ]
    },
    {
      "cell_type": "code",
      "metadata": {
        "colab": {
          "base_uri": "https://localhost:8080/"
        },
        "id": "up2kaJ6z5Nh_",
        "outputId": "54a25239-a561-4935-ce24-9ef7efdd8be8"
      },
      "source": [
        "m1.T@m1"
      ],
      "execution_count": null,
      "outputs": [
        {
          "output_type": "execute_result",
          "data": {
            "text/plain": [
              "matrix([[ 14,  29,  44,  23],\n",
              "        [ 29,  61,  93,  53],\n",
              "        [ 44,  93, 142,  83],\n",
              "        [ 23,  53,  83, 113]])"
            ]
          },
          "metadata": {
            "tags": []
          },
          "execution_count": 103
        }
      ]
    },
    {
      "cell_type": "markdown",
      "metadata": {
        "id": "Tq0QjkgQbxJj"
      },
      "source": [
        "### Take stock:\n",
        "- When we add a vector or a matrix with a number\n",
        "- When we add or subtract 2 vectors\n",
        "- When we multiply 2 vectors\n",
        "- When we multiply a matrix with a number\n",
        "- When we multiply a matrix with a **vertical** vector\n",
        "- When we multiply a matrix with another matrix"
      ]
    }
  ]
}